{
 "cells": [
  {
   "cell_type": "markdown",
   "metadata": {
    "id": "mEBtCOk9ouYE"
   },
   "source": [
    "# BUILDING A MODEL CAPABLE OF FILTERING USER COMMENTS BASED ON THE HARMFULNESS OF THE LANGUAGE\n",
    "\n",
    "### Real Case Task:\n",
    "\n",
    "Preprocess the text by removing the set of tokens that do not provide a significant semantic contribution.\n",
    "Transform the text corpus into sequences and build a Deep Learning model comprising recurrent layers for a\n",
    "multilabel classification task.\n",
    "At prediction time, the model should return a vector containing a 1 or a 0 corresponding to each label present\n",
    "in the dataset (toxic, severe_toxic, obscene, threat, insult, identity_hate). In this way, a non-harmful comment\n",
    "will be classified by a vector of only 0s [0,0,0,0,0,0]. Conversely, a dangerous comment will have at least one 1\n",
    "among the 6 labels."
   ]
  },
  {
   "cell_type": "markdown",
   "metadata": {
    "id": "Rqh415Rho3HD"
   },
   "source": [
    " INDEX\n",
    "### 1. LIBRARIES AND DATA COLLECTION\n",
    "    1.1 - Library\n",
    "    1.2 - Data Ingestion\n",
    "### 2. EDA - EXPLORATORY DATA ANALYSIS\n",
    "    2.1 - Dataframe visualization\n",
    "    2.2 - Data cleaning missing values, duplicates or aberrant\n",
    "    2.3 - Feature engineering\n",
    "    2.4 - Levels balancing analysis\n",
    "### 3. DATA PREPROCESSING\n",
    "    3.1 - Levels balancing\n",
    "    3.2 - Text cleaning\n",
    "    3.3 - Train-Validation-Test partitioning\n",
    "    3.4 - Lemmatization, tokenization, sequencing and padding\n",
    "### 4. MODEL\n",
    "    4.1 - Base model definition\n",
    "    4.2 - Compile\n",
    "    4.3 - Fit\n",
    "    4.4 - Model Evaluation\n",
    "### 5. MODEL TEST AND IMPROVEMENT\n",
    "    5.1 - Model test on random sentence\n",
    "    5.2 - Improved Model test \n",
    "    5.3 - Improved model Evaluation\n",
    "    5.4 - Improved model on random sentence\n",
    "\n"
   ]
  },
  {
   "cell_type": "markdown",
   "metadata": {
    "id": "LtC4glcHqArL"
   },
   "source": [
    "# 1. Data and library collection"
   ]
  },
  {
   "cell_type": "markdown",
   "metadata": {
    "id": "m4wa-LP3ppQy"
   },
   "source": [
    "### 1.1 Library"
   ]
  },
  {
   "cell_type": "code",
   "execution_count": null,
   "metadata": {
    "colab": {
     "base_uri": "https://localhost:8080/"
    },
    "id": "BvSK7Yv46XGj",
    "outputId": "0d1f4e70-f498-4ab0-80df-67707c9fb9d7"
   },
   "outputs": [
    {
     "name": "stdout",
     "output_type": "stream",
     "text": [
      "Collecting scikeras\n",
      "  Downloading scikeras-0.13.0-py3-none-any.whl.metadata (3.1 kB)\n",
      "Requirement already satisfied: keras>=3.2.0 in /usr/local/lib/python3.10/dist-packages (from scikeras) (3.4.1)\n",
      "Collecting scikit-learn>=1.4.2 (from scikeras)\n",
      "  Downloading scikit_learn-1.5.1-cp310-cp310-manylinux_2_17_x86_64.manylinux2014_x86_64.whl.metadata (12 kB)\n",
      "Requirement already satisfied: absl-py in /usr/local/lib/python3.10/dist-packages (from keras>=3.2.0->scikeras) (1.4.0)\n",
      "Requirement already satisfied: numpy in /usr/local/lib/python3.10/dist-packages (from keras>=3.2.0->scikeras) (1.26.4)\n",
      "Requirement already satisfied: rich in /usr/local/lib/python3.10/dist-packages (from keras>=3.2.0->scikeras) (13.8.0)\n",
      "Requirement already satisfied: namex in /usr/local/lib/python3.10/dist-packages (from keras>=3.2.0->scikeras) (0.0.8)\n",
      "Requirement already satisfied: h5py in /usr/local/lib/python3.10/dist-packages (from keras>=3.2.0->scikeras) (3.11.0)\n",
      "Requirement already satisfied: optree in /usr/local/lib/python3.10/dist-packages (from keras>=3.2.0->scikeras) (0.12.1)\n",
      "Requirement already satisfied: ml-dtypes in /usr/local/lib/python3.10/dist-packages (from keras>=3.2.0->scikeras) (0.4.0)\n",
      "Requirement already satisfied: packaging in /usr/local/lib/python3.10/dist-packages (from keras>=3.2.0->scikeras) (24.1)\n",
      "Requirement already satisfied: scipy>=1.6.0 in /usr/local/lib/python3.10/dist-packages (from scikit-learn>=1.4.2->scikeras) (1.13.1)\n",
      "Requirement already satisfied: joblib>=1.2.0 in /usr/local/lib/python3.10/dist-packages (from scikit-learn>=1.4.2->scikeras) (1.4.2)\n",
      "Requirement already satisfied: threadpoolctl>=3.1.0 in /usr/local/lib/python3.10/dist-packages (from scikit-learn>=1.4.2->scikeras) (3.5.0)\n",
      "Requirement already satisfied: typing-extensions>=4.5.0 in /usr/local/lib/python3.10/dist-packages (from optree->keras>=3.2.0->scikeras) (4.12.2)\n",
      "Requirement already satisfied: markdown-it-py>=2.2.0 in /usr/local/lib/python3.10/dist-packages (from rich->keras>=3.2.0->scikeras) (3.0.0)\n",
      "Requirement already satisfied: pygments<3.0.0,>=2.13.0 in /usr/local/lib/python3.10/dist-packages (from rich->keras>=3.2.0->scikeras) (2.16.1)\n",
      "Requirement already satisfied: mdurl~=0.1 in /usr/local/lib/python3.10/dist-packages (from markdown-it-py>=2.2.0->rich->keras>=3.2.0->scikeras) (0.1.2)\n",
      "Downloading scikeras-0.13.0-py3-none-any.whl (26 kB)\n",
      "Downloading scikit_learn-1.5.1-cp310-cp310-manylinux_2_17_x86_64.manylinux2014_x86_64.whl (13.4 MB)\n",
      "\u001b[2K   \u001b[90m━━━━━━━━━━━━━━━━━━━━━━━━━━━━━━━━━━━━━━━━\u001b[0m \u001b[32m13.4/13.4 MB\u001b[0m \u001b[31m94.4 MB/s\u001b[0m eta \u001b[36m0:00:00\u001b[0m\n",
      "\u001b[?25hInstalling collected packages: scikit-learn, scikeras\n",
      "  Attempting uninstall: scikit-learn\n",
      "    Found existing installation: scikit-learn 1.3.2\n",
      "    Uninstalling scikit-learn-1.3.2:\n",
      "      Successfully uninstalled scikit-learn-1.3.2\n",
      "Successfully installed scikeras-0.13.0 scikit-learn-1.5.1\n"
     ]
    }
   ],
   "source": [
    "pip install scikeras"
   ]
  },
  {
   "cell_type": "code",
   "execution_count": null,
   "metadata": {
    "colab": {
     "base_uri": "https://localhost:8080/"
    },
    "id": "GD9MTTQ8obhB",
    "outputId": "0198081c-7368-4370-eed3-59af35fd12fc"
   },
   "outputs": [
    {
     "name": "stderr",
     "output_type": "stream",
     "text": [
      "[nltk_data] Downloading package stopwords to /root/nltk_data...\n",
      "[nltk_data]   Package stopwords is already up-to-date!\n",
      "[nltk_data] Downloading package punkt to /root/nltk_data...\n",
      "[nltk_data]   Package punkt is already up-to-date!\n",
      "[nltk_data] Downloading package wordnet to /root/nltk_data...\n",
      "[nltk_data]   Package wordnet is already up-to-date!\n"
     ]
    }
   ],
   "source": [
    "import pandas as pd\n",
    "import numpy as np\n",
    "import re\n",
    "from tensorflow import keras\n",
    "from tensorflow.keras.preprocessing.text import Tokenizer\n",
    "from tensorflow.keras.preprocessing.sequence import pad_sequences\n",
    "from tensorflow.keras.models import Sequential\n",
    "from tensorflow.keras.layers import GRU, Dense, Embedding, Bidirectional, Dropout, LSTM, BatchNormalization\n",
    "from nltk.tokenize import word_tokenize\n",
    "from nltk.corpus import stopwords\n",
    "from sklearn.model_selection import train_test_split\n",
    "from imblearn.under_sampling import RandomUnderSampler\n",
    "import nltk\n",
    "nltk.download('stopwords')\n",
    "nltk.download('punkt')\n",
    "nltk.download('wordnet')\n",
    "from nltk.stem import WordNetLemmatizer\n",
    "import string\n",
    "from nltk.corpus import stopwords\n",
    "import matplotlib.pyplot as plt\n",
    "from imblearn.over_sampling import RandomOverSampler\n",
    "from scikeras.wrappers import KerasClassifier\n",
    "from sklearn.model_selection import cross_val_score\n",
    "import tensorflow as tf\n",
    "from keras.optimizers import Adam"
   ]
  },
  {
   "cell_type": "markdown",
   "metadata": {
    "id": "7b9IXli0pudM"
   },
   "source": [
    "### 1.2 Data Ingestion"
   ]
  },
  {
   "cell_type": "code",
   "execution_count": null,
   "metadata": {
    "id": "7STrxuY-objW"
   },
   "outputs": [],
   "source": [
    "BASE_URL = \"https://s3.eu-west-3.amazonaws.com/profession.ai/datasets/\"\n",
    "df = pd.read_csv(BASE_URL + \"Filter_Toxic_Comments_dataset.csv\")"
   ]
  },
  {
   "cell_type": "markdown",
   "metadata": {
    "id": "ueSchDZ5qMed"
   },
   "source": [
    "# 2. EDA - Exploratory Data Analysis"
   ]
  },
  {
   "cell_type": "markdown",
   "metadata": {
    "id": "e7IFNaDUsdK2"
   },
   "source": [
    "### 2.1 Dataframe visualization"
   ]
  },
  {
   "cell_type": "code",
   "execution_count": null,
   "metadata": {
    "colab": {
     "base_uri": "https://localhost:8080/",
     "height": 206
    },
    "id": "k-V1iBvXobmG",
    "outputId": "a3bc0ec4-0948-4054-99ad-7d6defd85a27"
   },
   "outputs": [
    {
     "data": {
      "application/vnd.google.colaboratory.intrinsic+json": {
       "type": "dataframe",
       "variable_name": "df"
      },
      "text/html": [
       "\n",
       "  <div id=\"df-e720ebe5-0d69-41e8-8703-6491ca31bae5\" class=\"colab-df-container\">\n",
       "    <div>\n",
       "<style scoped>\n",
       "    .dataframe tbody tr th:only-of-type {\n",
       "        vertical-align: middle;\n",
       "    }\n",
       "\n",
       "    .dataframe tbody tr th {\n",
       "        vertical-align: top;\n",
       "    }\n",
       "\n",
       "    .dataframe thead th {\n",
       "        text-align: right;\n",
       "    }\n",
       "</style>\n",
       "<table border=\"1\" class=\"dataframe\">\n",
       "  <thead>\n",
       "    <tr style=\"text-align: right;\">\n",
       "      <th></th>\n",
       "      <th>comment_text</th>\n",
       "      <th>toxic</th>\n",
       "      <th>severe_toxic</th>\n",
       "      <th>obscene</th>\n",
       "      <th>threat</th>\n",
       "      <th>insult</th>\n",
       "      <th>identity_hate</th>\n",
       "      <th>sum_injurious</th>\n",
       "    </tr>\n",
       "  </thead>\n",
       "  <tbody>\n",
       "    <tr>\n",
       "      <th>0</th>\n",
       "      <td>Explanation\\nWhy the edits made under my usern...</td>\n",
       "      <td>0</td>\n",
       "      <td>0</td>\n",
       "      <td>0</td>\n",
       "      <td>0</td>\n",
       "      <td>0</td>\n",
       "      <td>0</td>\n",
       "      <td>0</td>\n",
       "    </tr>\n",
       "    <tr>\n",
       "      <th>1</th>\n",
       "      <td>D'aww! He matches this background colour I'm s...</td>\n",
       "      <td>0</td>\n",
       "      <td>0</td>\n",
       "      <td>0</td>\n",
       "      <td>0</td>\n",
       "      <td>0</td>\n",
       "      <td>0</td>\n",
       "      <td>0</td>\n",
       "    </tr>\n",
       "    <tr>\n",
       "      <th>2</th>\n",
       "      <td>Hey man, I'm really not trying to edit war. It...</td>\n",
       "      <td>0</td>\n",
       "      <td>0</td>\n",
       "      <td>0</td>\n",
       "      <td>0</td>\n",
       "      <td>0</td>\n",
       "      <td>0</td>\n",
       "      <td>0</td>\n",
       "    </tr>\n",
       "    <tr>\n",
       "      <th>3</th>\n",
       "      <td>\"\\nMore\\nI can't make any real suggestions on ...</td>\n",
       "      <td>0</td>\n",
       "      <td>0</td>\n",
       "      <td>0</td>\n",
       "      <td>0</td>\n",
       "      <td>0</td>\n",
       "      <td>0</td>\n",
       "      <td>0</td>\n",
       "    </tr>\n",
       "    <tr>\n",
       "      <th>4</th>\n",
       "      <td>You, sir, are my hero. Any chance you remember...</td>\n",
       "      <td>0</td>\n",
       "      <td>0</td>\n",
       "      <td>0</td>\n",
       "      <td>0</td>\n",
       "      <td>0</td>\n",
       "      <td>0</td>\n",
       "      <td>0</td>\n",
       "    </tr>\n",
       "  </tbody>\n",
       "</table>\n",
       "</div>\n",
       "    <div class=\"colab-df-buttons\">\n",
       "\n",
       "  <div class=\"colab-df-container\">\n",
       "    <button class=\"colab-df-convert\" onclick=\"convertToInteractive('df-e720ebe5-0d69-41e8-8703-6491ca31bae5')\"\n",
       "            title=\"Convert this dataframe to an interactive table.\"\n",
       "            style=\"display:none;\">\n",
       "\n",
       "  <svg xmlns=\"http://www.w3.org/2000/svg\" height=\"24px\" viewBox=\"0 -960 960 960\">\n",
       "    <path d=\"M120-120v-720h720v720H120Zm60-500h600v-160H180v160Zm220 220h160v-160H400v160Zm0 220h160v-160H400v160ZM180-400h160v-160H180v160Zm440 0h160v-160H620v160ZM180-180h160v-160H180v160Zm440 0h160v-160H620v160Z\"/>\n",
       "  </svg>\n",
       "    </button>\n",
       "\n",
       "  <style>\n",
       "    .colab-df-container {\n",
       "      display:flex;\n",
       "      gap: 12px;\n",
       "    }\n",
       "\n",
       "    .colab-df-convert {\n",
       "      background-color: #E8F0FE;\n",
       "      border: none;\n",
       "      border-radius: 50%;\n",
       "      cursor: pointer;\n",
       "      display: none;\n",
       "      fill: #1967D2;\n",
       "      height: 32px;\n",
       "      padding: 0 0 0 0;\n",
       "      width: 32px;\n",
       "    }\n",
       "\n",
       "    .colab-df-convert:hover {\n",
       "      background-color: #E2EBFA;\n",
       "      box-shadow: 0px 1px 2px rgba(60, 64, 67, 0.3), 0px 1px 3px 1px rgba(60, 64, 67, 0.15);\n",
       "      fill: #174EA6;\n",
       "    }\n",
       "\n",
       "    .colab-df-buttons div {\n",
       "      margin-bottom: 4px;\n",
       "    }\n",
       "\n",
       "    [theme=dark] .colab-df-convert {\n",
       "      background-color: #3B4455;\n",
       "      fill: #D2E3FC;\n",
       "    }\n",
       "\n",
       "    [theme=dark] .colab-df-convert:hover {\n",
       "      background-color: #434B5C;\n",
       "      box-shadow: 0px 1px 3px 1px rgba(0, 0, 0, 0.15);\n",
       "      filter: drop-shadow(0px 1px 2px rgba(0, 0, 0, 0.3));\n",
       "      fill: #FFFFFF;\n",
       "    }\n",
       "  </style>\n",
       "\n",
       "    <script>\n",
       "      const buttonEl =\n",
       "        document.querySelector('#df-e720ebe5-0d69-41e8-8703-6491ca31bae5 button.colab-df-convert');\n",
       "      buttonEl.style.display =\n",
       "        google.colab.kernel.accessAllowed ? 'block' : 'none';\n",
       "\n",
       "      async function convertToInteractive(key) {\n",
       "        const element = document.querySelector('#df-e720ebe5-0d69-41e8-8703-6491ca31bae5');\n",
       "        const dataTable =\n",
       "          await google.colab.kernel.invokeFunction('convertToInteractive',\n",
       "                                                    [key], {});\n",
       "        if (!dataTable) return;\n",
       "\n",
       "        const docLinkHtml = 'Like what you see? Visit the ' +\n",
       "          '<a target=\"_blank\" href=https://colab.research.google.com/notebooks/data_table.ipynb>data table notebook</a>'\n",
       "          + ' to learn more about interactive tables.';\n",
       "        element.innerHTML = '';\n",
       "        dataTable['output_type'] = 'display_data';\n",
       "        await google.colab.output.renderOutput(dataTable, element);\n",
       "        const docLink = document.createElement('div');\n",
       "        docLink.innerHTML = docLinkHtml;\n",
       "        element.appendChild(docLink);\n",
       "      }\n",
       "    </script>\n",
       "  </div>\n",
       "\n",
       "\n",
       "<div id=\"df-9feedc08-45ef-4b1f-ab41-ca554f4714be\">\n",
       "  <button class=\"colab-df-quickchart\" onclick=\"quickchart('df-9feedc08-45ef-4b1f-ab41-ca554f4714be')\"\n",
       "            title=\"Suggest charts\"\n",
       "            style=\"display:none;\">\n",
       "\n",
       "<svg xmlns=\"http://www.w3.org/2000/svg\" height=\"24px\"viewBox=\"0 0 24 24\"\n",
       "     width=\"24px\">\n",
       "    <g>\n",
       "        <path d=\"M19 3H5c-1.1 0-2 .9-2 2v14c0 1.1.9 2 2 2h14c1.1 0 2-.9 2-2V5c0-1.1-.9-2-2-2zM9 17H7v-7h2v7zm4 0h-2V7h2v10zm4 0h-2v-4h2v4z\"/>\n",
       "    </g>\n",
       "</svg>\n",
       "  </button>\n",
       "\n",
       "<style>\n",
       "  .colab-df-quickchart {\n",
       "      --bg-color: #E8F0FE;\n",
       "      --fill-color: #1967D2;\n",
       "      --hover-bg-color: #E2EBFA;\n",
       "      --hover-fill-color: #174EA6;\n",
       "      --disabled-fill-color: #AAA;\n",
       "      --disabled-bg-color: #DDD;\n",
       "  }\n",
       "\n",
       "  [theme=dark] .colab-df-quickchart {\n",
       "      --bg-color: #3B4455;\n",
       "      --fill-color: #D2E3FC;\n",
       "      --hover-bg-color: #434B5C;\n",
       "      --hover-fill-color: #FFFFFF;\n",
       "      --disabled-bg-color: #3B4455;\n",
       "      --disabled-fill-color: #666;\n",
       "  }\n",
       "\n",
       "  .colab-df-quickchart {\n",
       "    background-color: var(--bg-color);\n",
       "    border: none;\n",
       "    border-radius: 50%;\n",
       "    cursor: pointer;\n",
       "    display: none;\n",
       "    fill: var(--fill-color);\n",
       "    height: 32px;\n",
       "    padding: 0;\n",
       "    width: 32px;\n",
       "  }\n",
       "\n",
       "  .colab-df-quickchart:hover {\n",
       "    background-color: var(--hover-bg-color);\n",
       "    box-shadow: 0 1px 2px rgba(60, 64, 67, 0.3), 0 1px 3px 1px rgba(60, 64, 67, 0.15);\n",
       "    fill: var(--button-hover-fill-color);\n",
       "  }\n",
       "\n",
       "  .colab-df-quickchart-complete:disabled,\n",
       "  .colab-df-quickchart-complete:disabled:hover {\n",
       "    background-color: var(--disabled-bg-color);\n",
       "    fill: var(--disabled-fill-color);\n",
       "    box-shadow: none;\n",
       "  }\n",
       "\n",
       "  .colab-df-spinner {\n",
       "    border: 2px solid var(--fill-color);\n",
       "    border-color: transparent;\n",
       "    border-bottom-color: var(--fill-color);\n",
       "    animation:\n",
       "      spin 1s steps(1) infinite;\n",
       "  }\n",
       "\n",
       "  @keyframes spin {\n",
       "    0% {\n",
       "      border-color: transparent;\n",
       "      border-bottom-color: var(--fill-color);\n",
       "      border-left-color: var(--fill-color);\n",
       "    }\n",
       "    20% {\n",
       "      border-color: transparent;\n",
       "      border-left-color: var(--fill-color);\n",
       "      border-top-color: var(--fill-color);\n",
       "    }\n",
       "    30% {\n",
       "      border-color: transparent;\n",
       "      border-left-color: var(--fill-color);\n",
       "      border-top-color: var(--fill-color);\n",
       "      border-right-color: var(--fill-color);\n",
       "    }\n",
       "    40% {\n",
       "      border-color: transparent;\n",
       "      border-right-color: var(--fill-color);\n",
       "      border-top-color: var(--fill-color);\n",
       "    }\n",
       "    60% {\n",
       "      border-color: transparent;\n",
       "      border-right-color: var(--fill-color);\n",
       "    }\n",
       "    80% {\n",
       "      border-color: transparent;\n",
       "      border-right-color: var(--fill-color);\n",
       "      border-bottom-color: var(--fill-color);\n",
       "    }\n",
       "    90% {\n",
       "      border-color: transparent;\n",
       "      border-bottom-color: var(--fill-color);\n",
       "    }\n",
       "  }\n",
       "</style>\n",
       "\n",
       "  <script>\n",
       "    async function quickchart(key) {\n",
       "      const quickchartButtonEl =\n",
       "        document.querySelector('#' + key + ' button');\n",
       "      quickchartButtonEl.disabled = true;  // To prevent multiple clicks.\n",
       "      quickchartButtonEl.classList.add('colab-df-spinner');\n",
       "      try {\n",
       "        const charts = await google.colab.kernel.invokeFunction(\n",
       "            'suggestCharts', [key], {});\n",
       "      } catch (error) {\n",
       "        console.error('Error during call to suggestCharts:', error);\n",
       "      }\n",
       "      quickchartButtonEl.classList.remove('colab-df-spinner');\n",
       "      quickchartButtonEl.classList.add('colab-df-quickchart-complete');\n",
       "    }\n",
       "    (() => {\n",
       "      let quickchartButtonEl =\n",
       "        document.querySelector('#df-9feedc08-45ef-4b1f-ab41-ca554f4714be button');\n",
       "      quickchartButtonEl.style.display =\n",
       "        google.colab.kernel.accessAllowed ? 'block' : 'none';\n",
       "    })();\n",
       "  </script>\n",
       "</div>\n",
       "\n",
       "    </div>\n",
       "  </div>\n"
      ],
      "text/plain": [
       "                                        comment_text  toxic  severe_toxic  \\\n",
       "0  Explanation\\nWhy the edits made under my usern...      0             0   \n",
       "1  D'aww! He matches this background colour I'm s...      0             0   \n",
       "2  Hey man, I'm really not trying to edit war. It...      0             0   \n",
       "3  \"\\nMore\\nI can't make any real suggestions on ...      0             0   \n",
       "4  You, sir, are my hero. Any chance you remember...      0             0   \n",
       "\n",
       "   obscene  threat  insult  identity_hate  sum_injurious  \n",
       "0        0       0       0              0              0  \n",
       "1        0       0       0              0              0  \n",
       "2        0       0       0              0              0  \n",
       "3        0       0       0              0              0  \n",
       "4        0       0       0              0              0  "
      ]
     },
     "execution_count": 7,
     "metadata": {},
     "output_type": "execute_result"
    }
   ],
   "source": [
    "df.head()"
   ]
  },
  {
   "cell_type": "markdown",
   "metadata": {
    "id": "Xa5PeT22sk7H"
   },
   "source": [
    "### 2.2 Missing values Analysis"
   ]
  },
  {
   "cell_type": "code",
   "execution_count": null,
   "metadata": {
    "colab": {
     "base_uri": "https://localhost:8080/"
    },
    "id": "PB5Vj5OuoboS",
    "outputId": "adada0c2-6cee-4720-87da-b57b04c77399"
   },
   "outputs": [
    {
     "name": "stdout",
     "output_type": "stream",
     "text": [
      "<class 'pandas.core.frame.DataFrame'>\n",
      "RangeIndex: 159571 entries, 0 to 159570\n",
      "Data columns (total 8 columns):\n",
      " #   Column         Non-Null Count   Dtype \n",
      "---  ------         --------------   ----- \n",
      " 0   comment_text   159571 non-null  object\n",
      " 1   toxic          159571 non-null  int64 \n",
      " 2   severe_toxic   159571 non-null  int64 \n",
      " 3   obscene        159571 non-null  int64 \n",
      " 4   threat         159571 non-null  int64 \n",
      " 5   insult         159571 non-null  int64 \n",
      " 6   identity_hate  159571 non-null  int64 \n",
      " 7   sum_injurious  159571 non-null  int64 \n",
      "dtypes: int64(7), object(1)\n",
      "memory usage: 9.7+ MB\n"
     ]
    }
   ],
   "source": [
    "df.info()"
   ]
  },
  {
   "cell_type": "markdown",
   "metadata": {
    "id": "SfINmnyatUk6"
   },
   "source": [
    "From a quick analysis with .info(), we notice that all the cells are filled. Now, let's verify that the values of the qualitative features are indeed always binary. The textual feature will not be subject to verification now because it can obviously contain any value, and the removal of irrelevant fractions will be addressed in the next steps.Da una rapida analisi con .info() notiamo che tutte le celle sono occupate. Ora verifichiamo che i valori delle feature qualitative siano effetivamente sempre binari. La feature testuale non sarà oggetto di verifiche ora perché può contenere ovviamente qualunque valore e la rimozione delle frazioni irrilevanti sarà oggetto dei prossimi punti."
   ]
  },
  {
   "cell_type": "code",
   "execution_count": null,
   "metadata": {
    "id": "tysHBAFbobq2"
   },
   "outputs": [],
   "source": [
    "columns_to_check = ['toxic', 'severe_toxic', 'obscene', 'threat', 'insult', 'identity_hate']"
   ]
  },
  {
   "cell_type": "code",
   "execution_count": null,
   "metadata": {
    "id": "AntyPAz9obtP"
   },
   "outputs": [],
   "source": [
    "def is_binary(column):\n",
    "  return set(column).issubset({0,1})"
   ]
  },
  {
   "cell_type": "code",
   "execution_count": null,
   "metadata": {
    "colab": {
     "base_uri": "https://localhost:8080/"
    },
    "id": "y9WzPqNSobvo",
    "outputId": "95fadd6f-21cc-4f71-d50a-57493c4b42f8"
   },
   "outputs": [
    {
     "name": "stdout",
     "output_type": "stream",
     "text": [
      "La colonna toxic è binaria\n",
      "La colonna severe_toxic è binaria\n",
      "La colonna obscene è binaria\n",
      "La colonna threat è binaria\n",
      "La colonna insult è binaria\n",
      "La colonna identity_hate è binaria\n"
     ]
    }
   ],
   "source": [
    "for column in columns_to_check:\n",
    "  if is_binary(df[column]):\n",
    "    print(f'Column {column} is binary')\n",
    "  else:\n",
    "    print(f'Caution: column {column} has aberrant values')"
   ]
  },
  {
   "cell_type": "markdown",
   "metadata": {
    "id": "BgJtQD34wZRL"
   },
   "source": [
    "### We have the confirmation that all quantitative features are complete and contain only binary values."
   ]
  },
  {
   "cell_type": "markdown",
   "metadata": {
    "id": "8zyU7rgY1Siv"
   },
   "source": [
    "### 2.3 Feature engineering"
   ]
  },
  {
   "cell_type": "markdown",
   "metadata": {
    "id": "fh0hqXTTwZ0d"
   },
   "source": [
    "Let's now create a feature that, unlike sum_injurious, is not simply the sum of the binary values of the qualitative features but concatenates them in order to identify the various combinations of hostile attributes present in the text dataset.Creiamo ora una feature che a differenza di sum_injurious non sia la semplice somma dei valori binari delle feature qualitative ma li concateni in modo da identificare le varie combinazioni di attributi ostili presenti nel dataset di testo."
   ]
  },
  {
   "cell_type": "code",
   "execution_count": null,
   "metadata": {
    "id": "6fP08WmwobyB"
   },
   "outputs": [],
   "source": [
    "df['label_combination'] = df[['toxic', 'severe_toxic', 'obscene', 'threat', 'insult', 'identity_hate']].apply(lambda x: '_'.join(x.astype(str)), axis=1)"
   ]
  },
  {
   "cell_type": "markdown",
   "metadata": {
    "id": "0dMshZxm29b5"
   },
   "source": [
    "### 2.4 Levels balancing analysis"
   ]
  },
  {
   "cell_type": "code",
   "execution_count": null,
   "metadata": {
    "colab": {
     "base_uri": "https://localhost:8080/"
    },
    "id": "ORok87e4ob0W",
    "outputId": "396d8ee4-a64f-40a7-df65-3176f104542d"
   },
   "outputs": [
    {
     "name": "stdout",
     "output_type": "stream",
     "text": [
      "label_combination\n",
      "0_0_0_0_0_0    143346\n",
      "1_0_0_0_0_0      5666\n",
      "1_0_1_0_1_0      3800\n",
      "1_0_1_0_0_0      1758\n",
      "1_0_0_0_1_0      1215\n",
      "1_1_1_0_1_0       989\n",
      "1_0_1_0_1_1       618\n",
      "0_0_1_0_0_0       317\n",
      "0_0_0_0_1_0       301\n",
      "1_1_1_0_1_1       265\n",
      "0_0_1_0_1_0       181\n",
      "1_1_1_0_0_0       158\n",
      "1_0_0_0_0_1       136\n",
      "1_0_0_0_1_1       134\n",
      "1_0_1_1_1_0       131\n",
      "1_0_0_1_0_0       113\n",
      "1_1_1_1_1_0        64\n",
      "1_0_1_1_1_1        56\n",
      "0_0_0_0_0_1        54\n",
      "1_1_0_0_0_0        41\n",
      "1_0_1_0_0_1        35\n",
      "1_1_1_1_1_1        31\n",
      "0_0_0_0_1_1        28\n",
      "0_0_0_1_0_0        22\n",
      "0_0_1_0_1_1        18\n",
      "1_0_0_1_1_0        16\n",
      "1_1_0_0_1_0        14\n",
      "1_0_1_1_0_0        11\n",
      "1_1_0_1_0_0        11\n",
      "1_0_0_1_0_1         7\n",
      "1_1_0_0_1_1         7\n",
      "1_1_1_0_0_1         6\n",
      "1_1_1_1_0_0         4\n",
      "0_0_0_1_1_0         3\n",
      "1_0_0_1_1_1         3\n",
      "1_1_0_0_0_1         3\n",
      "0_0_1_0_0_1         3\n",
      "0_0_1_1_0_0         2\n",
      "0_0_1_1_1_0         2\n",
      "1_1_0_1_1_0         1\n",
      "1_1_0_1_0_1         1\n",
      "Name: count, dtype: int64\n"
     ]
    }
   ],
   "source": [
    "label_counts = df['label_combination'].value_counts()\n",
    "print(label_counts)"
   ]
  },
  {
   "cell_type": "markdown",
   "metadata": {
    "id": "k3XdpkdK1hS4"
   },
   "source": [
    "Some classes are poorly represented, not even being able to accept a train-validation-test partitioning, so their oversampling is necessary."
   ]
  },
  {
   "cell_type": "code",
   "execution_count": null,
   "metadata": {
    "colab": {
     "base_uri": "https://localhost:8080/",
     "height": 546
    },
    "id": "z1BCvYzdob2y",
    "outputId": "fac508b7-2027-4642-e4bb-0dbc2ab9205a"
   },
   "outputs": [
    {
     "data": {
      "image/png": "[encoded data removed]",
      "text/plain": [
       "<Figure size 640x480 with 1 Axes>"
      ]
     },
     "metadata": {},
     "output_type": "display_data"
    }
   ],
   "source": [
    "plt.bar(label_counts.index, label_counts.values)\n",
    "plt.xlabel('Label Combination')\n",
    "plt.ylabel('Count')\n",
    "plt.title('Count of label combinations')\n",
    "plt.xticks(rotation=90)\n",
    "plt.show()"
   ]
  },
  {
   "cell_type": "markdown",
   "metadata": {
    "id": "sc_ru7E0xi-9"
   },
   "source": [
    "Non-hostile sentences are prevalent, and precisely"
   ]
  },
  {
   "cell_type": "code",
   "execution_count": null,
   "metadata": {
    "colab": {
     "base_uri": "https://localhost:8080/"
    },
    "id": "NlbyA6RNob5D",
    "outputId": "009620c0-b39a-42f1-88ac-ee5e2c4d1f10"
   },
   "outputs": [
    {
     "data": {
      "text/plain": [
       "143346"
      ]
     },
     "execution_count": 15,
     "metadata": {},
     "output_type": "execute_result"
    }
   ],
   "source": [
    "non_hostile = (df['label_combination'] == '0_0_0_0_0_0').sum()\n",
    "non_hostile"
   ]
  },
  {
   "cell_type": "code",
   "execution_count": null,
   "metadata": {
    "colab": {
     "base_uri": "https://localhost:8080/"
    },
    "id": "mIDnaucgob7S",
    "outputId": "996e58d8-672c-40f8-807c-919d4d4ca8e8"
   },
   "outputs": [
    {
     "name": "stdout",
     "output_type": "stream",
     "text": [
      "Le frasi non ostili sono lo 89.83% del totale\n"
     ]
    }
   ],
   "source": [
    "print('Non-hostile sentences are the {:.2f}% of the total'.format((non_hostile / df.shape[0]) * 100))"
   ]
  },
  {
   "cell_type": "markdown",
   "metadata": {
    "id": "j3SvDSfF424B"
   },
   "source": [
    "# 3. Data preprocessing"
   ]
  },
  {
   "cell_type": "markdown",
   "metadata": {
    "id": "yeHsyLgs44gt"
   },
   "source": [
    "### 3.1 Levels balancing"
   ]
  },
  {
   "cell_type": "markdown",
   "metadata": {
    "id": "WGn9B4Dy5LiG"
   },
   "source": [
    "Current hostile sentences"
   ]
  },
  {
   "cell_type": "code",
   "execution_count": null,
   "metadata": {
    "colab": {
     "base_uri": "https://localhost:8080/"
    },
    "id": "uHL_eMmPob9u",
    "outputId": "4facd872-f9da-4ed9-d6e5-bc9197a6bc08"
   },
   "outputs": [
    {
     "data": {
      "text/plain": [
       "16225"
      ]
     },
     "execution_count": 17,
     "metadata": {},
     "output_type": "execute_result"
    }
   ],
   "source": [
    "hostile = (df.shape[0]) - non_hostile\n",
    "hostile"
   ]
  },
  {
   "cell_type": "markdown",
   "metadata": {
    "id": "uiXsom3F5Wsp"
   },
   "source": [
    "To balance the dataset, given the large number, we start by randomly but reproducibly sampling 16,225 instances from the non-hostile sentences. The decision to reduce the non-hostile fraction instead of oversampling the hostile part to balance the dataset is due to the limited computational capabilities of the machine on which the project is running."
   ]
  },
  {
   "cell_type": "code",
   "execution_count": null,
   "metadata": {
    "id": "ot5CqUBeocAQ"
   },
   "outputs": [],
   "source": [
    "df_non_hostile = df[df['label_combination'] == '0_0_0_0_0_0'].sample(n=16225,\n",
    "                                                    random_state=42)"
   ]
  },
  {
   "cell_type": "code",
   "execution_count": null,
   "metadata": {
    "colab": {
     "base_uri": "https://localhost:8080/"
    },
    "id": "Fjwt48GQocC_",
    "outputId": "2a4c7b89-353b-4215-a64c-b33ae74de4a6"
   },
   "outputs": [
    {
     "data": {
      "text/plain": [
       "(16225, 9)"
      ]
     },
     "execution_count": 19,
     "metadata": {},
     "output_type": "execute_result"
    }
   ],
   "source": [
    "df_non_hostile.shape"
   ]
  },
  {
   "cell_type": "markdown",
   "metadata": {
    "id": "Gx6Y-lbIyIO4"
   },
   "source": [
    "New temporary dataframe"
   ]
  },
  {
   "cell_type": "code",
   "execution_count": null,
   "metadata": {
    "colab": {
     "base_uri": "https://localhost:8080/",
     "height": 276
    },
    "id": "795uH-j8ocFf",
    "outputId": "79e79edf-263e-4ea7-f405-d6390efbe2ac"
   },
   "outputs": [
    {
     "data": {
      "application/vnd.google.colaboratory.intrinsic+json": {
       "summary": "{\n  \"name\": \"df_balanced\",\n  \"rows\": 32450,\n  \"fields\": [\n    {\n      \"column\": \"comment_text\",\n      \"properties\": {\n        \"dtype\": \"string\",\n        \"num_unique_values\": 32450,\n        \"samples\": [\n          \"We want to keep the first sentence of the lead concise.  We can list all the CRs at the end of the lead or in a separate section.  Listing the white CRs makes it appear they are more important.  But Jamaica has almost the same population as NZ while Barbados is the oldest realm and at one time the most important.\",\n          \"WHO CARES.... GOETHEAN IS A capuchin monkeys anyway\",\n          \"yes i would say the book source is enough to add ricky\"\n        ],\n        \"semantic_type\": \"\",\n        \"description\": \"\"\n      }\n    },\n    {\n      \"column\": \"toxic\",\n      \"properties\": {\n        \"dtype\": \"number\",\n        \"std\": 0,\n        \"min\": 0,\n        \"max\": 1,\n        \"num_unique_values\": 2,\n        \"samples\": [\n          1,\n          0\n        ],\n        \"semantic_type\": \"\",\n        \"description\": \"\"\n      }\n    },\n    {\n      \"column\": \"severe_toxic\",\n      \"properties\": {\n        \"dtype\": \"number\",\n        \"std\": 0,\n        \"min\": 0,\n        \"max\": 1,\n        \"num_unique_values\": 2,\n        \"samples\": [\n          1,\n          0\n        ],\n        \"semantic_type\": \"\",\n        \"description\": \"\"\n      }\n    },\n    {\n      \"column\": \"obscene\",\n      \"properties\": {\n        \"dtype\": \"number\",\n        \"std\": 0,\n        \"min\": 0,\n        \"max\": 1,\n        \"num_unique_values\": 2,\n        \"samples\": [\n          1,\n          0\n        ],\n        \"semantic_type\": \"\",\n        \"description\": \"\"\n      }\n    },\n    {\n      \"column\": \"threat\",\n      \"properties\": {\n        \"dtype\": \"number\",\n        \"std\": 0,\n        \"min\": 0,\n        \"max\": 1,\n        \"num_unique_values\": 2,\n        \"samples\": [\n          1,\n          0\n        ],\n        \"semantic_type\": \"\",\n        \"description\": \"\"\n      }\n    },\n    {\n      \"column\": \"insult\",\n      \"properties\": {\n        \"dtype\": \"number\",\n        \"std\": 0,\n        \"min\": 0,\n        \"max\": 1,\n        \"num_unique_values\": 2,\n        \"samples\": [\n          1,\n          0\n        ],\n        \"semantic_type\": \"\",\n        \"description\": \"\"\n      }\n    },\n    {\n      \"column\": \"identity_hate\",\n      \"properties\": {\n        \"dtype\": \"number\",\n        \"std\": 0,\n        \"min\": 0,\n        \"max\": 1,\n        \"num_unique_values\": 2,\n        \"samples\": [\n          1,\n          0\n        ],\n        \"semantic_type\": \"\",\n        \"description\": \"\"\n      }\n    },\n    {\n      \"column\": \"sum_injurious\",\n      \"properties\": {\n        \"dtype\": \"number\",\n        \"std\": 1,\n        \"min\": 0,\n        \"max\": 6,\n        \"num_unique_values\": 7,\n        \"samples\": [\n          0,\n          4\n        ],\n        \"semantic_type\": \"\",\n        \"description\": \"\"\n      }\n    },\n    {\n      \"column\": \"label_combination\",\n      \"properties\": {\n        \"dtype\": \"category\",\n        \"num_unique_values\": 41,\n        \"samples\": [\n          \"1_1_0_0_0_0\",\n          \"1_1_1_0_1_1\"\n        ],\n        \"semantic_type\": \"\",\n        \"description\": \"\"\n      }\n    }\n  ]\n}",
       "type": "dataframe",
       "variable_name": "df_balanced"
      },
      "text/html": [
       "\n",
       "  <div id=\"df-49eaee2d-b660-4088-95a5-56e66a24c450\" class=\"colab-df-container\">\n",
       "    <div>\n",
       "<style scoped>\n",
       "    .dataframe tbody tr th:only-of-type {\n",
       "        vertical-align: middle;\n",
       "    }\n",
       "\n",
       "    .dataframe tbody tr th {\n",
       "        vertical-align: top;\n",
       "    }\n",
       "\n",
       "    .dataframe thead th {\n",
       "        text-align: right;\n",
       "    }\n",
       "</style>\n",
       "<table border=\"1\" class=\"dataframe\">\n",
       "  <thead>\n",
       "    <tr style=\"text-align: right;\">\n",
       "      <th></th>\n",
       "      <th>comment_text</th>\n",
       "      <th>toxic</th>\n",
       "      <th>severe_toxic</th>\n",
       "      <th>obscene</th>\n",
       "      <th>threat</th>\n",
       "      <th>insult</th>\n",
       "      <th>identity_hate</th>\n",
       "      <th>sum_injurious</th>\n",
       "      <th>label_combination</th>\n",
       "    </tr>\n",
       "  </thead>\n",
       "  <tbody>\n",
       "    <tr>\n",
       "      <th>46733</th>\n",
       "      <td>\"\\n\\nOh, don't worry about me, Sandstein. I'm ...</td>\n",
       "      <td>0</td>\n",
       "      <td>0</td>\n",
       "      <td>0</td>\n",
       "      <td>0</td>\n",
       "      <td>0</td>\n",
       "      <td>0</td>\n",
       "      <td>0</td>\n",
       "      <td>0_0_0_0_0_0</td>\n",
       "    </tr>\n",
       "    <tr>\n",
       "      <th>110326</th>\n",
       "      <td>Are you trying to dispute that fact?</td>\n",
       "      <td>0</td>\n",
       "      <td>0</td>\n",
       "      <td>0</td>\n",
       "      <td>0</td>\n",
       "      <td>0</td>\n",
       "      <td>0</td>\n",
       "      <td>0</td>\n",
       "      <td>0_0_0_0_0_0</td>\n",
       "    </tr>\n",
       "    <tr>\n",
       "      <th>76687</th>\n",
       "      <td>SWOT analysis \\n\\nThis source – Align Technolo...</td>\n",
       "      <td>0</td>\n",
       "      <td>0</td>\n",
       "      <td>0</td>\n",
       "      <td>0</td>\n",
       "      <td>0</td>\n",
       "      <td>0</td>\n",
       "      <td>0</td>\n",
       "      <td>0_0_0_0_0_0</td>\n",
       "    </tr>\n",
       "    <tr>\n",
       "      <th>36231</th>\n",
       "      <td>cover \\n\\nso, do we want a current or older co...</td>\n",
       "      <td>0</td>\n",
       "      <td>0</td>\n",
       "      <td>0</td>\n",
       "      <td>0</td>\n",
       "      <td>0</td>\n",
       "      <td>0</td>\n",
       "      <td>0</td>\n",
       "      <td>0_0_0_0_0_0</td>\n",
       "    </tr>\n",
       "    <tr>\n",
       "      <th>21514</th>\n",
       "      <td>P.S. It's probably worth setting up a template...</td>\n",
       "      <td>0</td>\n",
       "      <td>0</td>\n",
       "      <td>0</td>\n",
       "      <td>0</td>\n",
       "      <td>0</td>\n",
       "      <td>0</td>\n",
       "      <td>0</td>\n",
       "      <td>0_0_0_0_0_0</td>\n",
       "    </tr>\n",
       "  </tbody>\n",
       "</table>\n",
       "</div>\n",
       "    <div class=\"colab-df-buttons\">\n",
       "\n",
       "  <div class=\"colab-df-container\">\n",
       "    <button class=\"colab-df-convert\" onclick=\"convertToInteractive('df-49eaee2d-b660-4088-95a5-56e66a24c450')\"\n",
       "            title=\"Convert this dataframe to an interactive table.\"\n",
       "            style=\"display:none;\">\n",
       "\n",
       "  <svg xmlns=\"http://www.w3.org/2000/svg\" height=\"24px\" viewBox=\"0 -960 960 960\">\n",
       "    <path d=\"M120-120v-720h720v720H120Zm60-500h600v-160H180v160Zm220 220h160v-160H400v160Zm0 220h160v-160H400v160ZM180-400h160v-160H180v160Zm440 0h160v-160H620v160ZM180-180h160v-160H180v160Zm440 0h160v-160H620v160Z\"/>\n",
       "  </svg>\n",
       "    </button>\n",
       "\n",
       "  <style>\n",
       "    .colab-df-container {\n",
       "      display:flex;\n",
       "      gap: 12px;\n",
       "    }\n",
       "\n",
       "    .colab-df-convert {\n",
       "      background-color: #E8F0FE;\n",
       "      border: none;\n",
       "      border-radius: 50%;\n",
       "      cursor: pointer;\n",
       "      display: none;\n",
       "      fill: #1967D2;\n",
       "      height: 32px;\n",
       "      padding: 0 0 0 0;\n",
       "      width: 32px;\n",
       "    }\n",
       "\n",
       "    .colab-df-convert:hover {\n",
       "      background-color: #E2EBFA;\n",
       "      box-shadow: 0px 1px 2px rgba(60, 64, 67, 0.3), 0px 1px 3px 1px rgba(60, 64, 67, 0.15);\n",
       "      fill: #174EA6;\n",
       "    }\n",
       "\n",
       "    .colab-df-buttons div {\n",
       "      margin-bottom: 4px;\n",
       "    }\n",
       "\n",
       "    [theme=dark] .colab-df-convert {\n",
       "      background-color: #3B4455;\n",
       "      fill: #D2E3FC;\n",
       "    }\n",
       "\n",
       "    [theme=dark] .colab-df-convert:hover {\n",
       "      background-color: #434B5C;\n",
       "      box-shadow: 0px 1px 3px 1px rgba(0, 0, 0, 0.15);\n",
       "      filter: drop-shadow(0px 1px 2px rgba(0, 0, 0, 0.3));\n",
       "      fill: #FFFFFF;\n",
       "    }\n",
       "  </style>\n",
       "\n",
       "    <script>\n",
       "      const buttonEl =\n",
       "        document.querySelector('#df-49eaee2d-b660-4088-95a5-56e66a24c450 button.colab-df-convert');\n",
       "      buttonEl.style.display =\n",
       "        google.colab.kernel.accessAllowed ? 'block' : 'none';\n",
       "\n",
       "      async function convertToInteractive(key) {\n",
       "        const element = document.querySelector('#df-49eaee2d-b660-4088-95a5-56e66a24c450');\n",
       "        const dataTable =\n",
       "          await google.colab.kernel.invokeFunction('convertToInteractive',\n",
       "                                                    [key], {});\n",
       "        if (!dataTable) return;\n",
       "\n",
       "        const docLinkHtml = 'Like what you see? Visit the ' +\n",
       "          '<a target=\"_blank\" href=https://colab.research.google.com/notebooks/data_table.ipynb>data table notebook</a>'\n",
       "          + ' to learn more about interactive tables.';\n",
       "        element.innerHTML = '';\n",
       "        dataTable['output_type'] = 'display_data';\n",
       "        await google.colab.output.renderOutput(dataTable, element);\n",
       "        const docLink = document.createElement('div');\n",
       "        docLink.innerHTML = docLinkHtml;\n",
       "        element.appendChild(docLink);\n",
       "      }\n",
       "    </script>\n",
       "  </div>\n",
       "\n",
       "\n",
       "<div id=\"df-53f78eeb-b688-4216-8445-2bb3873de3be\">\n",
       "  <button class=\"colab-df-quickchart\" onclick=\"quickchart('df-53f78eeb-b688-4216-8445-2bb3873de3be')\"\n",
       "            title=\"Suggest charts\"\n",
       "            style=\"display:none;\">\n",
       "\n",
       "<svg xmlns=\"http://www.w3.org/2000/svg\" height=\"24px\"viewBox=\"0 0 24 24\"\n",
       "     width=\"24px\">\n",
       "    <g>\n",
       "        <path d=\"M19 3H5c-1.1 0-2 .9-2 2v14c0 1.1.9 2 2 2h14c1.1 0 2-.9 2-2V5c0-1.1-.9-2-2-2zM9 17H7v-7h2v7zm4 0h-2V7h2v10zm4 0h-2v-4h2v4z\"/>\n",
       "    </g>\n",
       "</svg>\n",
       "  </button>\n",
       "\n",
       "<style>\n",
       "  .colab-df-quickchart {\n",
       "      --bg-color: #E8F0FE;\n",
       "      --fill-color: #1967D2;\n",
       "      --hover-bg-color: #E2EBFA;\n",
       "      --hover-fill-color: #174EA6;\n",
       "      --disabled-fill-color: #AAA;\n",
       "      --disabled-bg-color: #DDD;\n",
       "  }\n",
       "\n",
       "  [theme=dark] .colab-df-quickchart {\n",
       "      --bg-color: #3B4455;\n",
       "      --fill-color: #D2E3FC;\n",
       "      --hover-bg-color: #434B5C;\n",
       "      --hover-fill-color: #FFFFFF;\n",
       "      --disabled-bg-color: #3B4455;\n",
       "      --disabled-fill-color: #666;\n",
       "  }\n",
       "\n",
       "  .colab-df-quickchart {\n",
       "    background-color: var(--bg-color);\n",
       "    border: none;\n",
       "    border-radius: 50%;\n",
       "    cursor: pointer;\n",
       "    display: none;\n",
       "    fill: var(--fill-color);\n",
       "    height: 32px;\n",
       "    padding: 0;\n",
       "    width: 32px;\n",
       "  }\n",
       "\n",
       "  .colab-df-quickchart:hover {\n",
       "    background-color: var(--hover-bg-color);\n",
       "    box-shadow: 0 1px 2px rgba(60, 64, 67, 0.3), 0 1px 3px 1px rgba(60, 64, 67, 0.15);\n",
       "    fill: var(--button-hover-fill-color);\n",
       "  }\n",
       "\n",
       "  .colab-df-quickchart-complete:disabled,\n",
       "  .colab-df-quickchart-complete:disabled:hover {\n",
       "    background-color: var(--disabled-bg-color);\n",
       "    fill: var(--disabled-fill-color);\n",
       "    box-shadow: none;\n",
       "  }\n",
       "\n",
       "  .colab-df-spinner {\n",
       "    border: 2px solid var(--fill-color);\n",
       "    border-color: transparent;\n",
       "    border-bottom-color: var(--fill-color);\n",
       "    animation:\n",
       "      spin 1s steps(1) infinite;\n",
       "  }\n",
       "\n",
       "  @keyframes spin {\n",
       "    0% {\n",
       "      border-color: transparent;\n",
       "      border-bottom-color: var(--fill-color);\n",
       "      border-left-color: var(--fill-color);\n",
       "    }\n",
       "    20% {\n",
       "      border-color: transparent;\n",
       "      border-left-color: var(--fill-color);\n",
       "      border-top-color: var(--fill-color);\n",
       "    }\n",
       "    30% {\n",
       "      border-color: transparent;\n",
       "      border-left-color: var(--fill-color);\n",
       "      border-top-color: var(--fill-color);\n",
       "      border-right-color: var(--fill-color);\n",
       "    }\n",
       "    40% {\n",
       "      border-color: transparent;\n",
       "      border-right-color: var(--fill-color);\n",
       "      border-top-color: var(--fill-color);\n",
       "    }\n",
       "    60% {\n",
       "      border-color: transparent;\n",
       "      border-right-color: var(--fill-color);\n",
       "    }\n",
       "    80% {\n",
       "      border-color: transparent;\n",
       "      border-right-color: var(--fill-color);\n",
       "      border-bottom-color: var(--fill-color);\n",
       "    }\n",
       "    90% {\n",
       "      border-color: transparent;\n",
       "      border-bottom-color: var(--fill-color);\n",
       "    }\n",
       "  }\n",
       "</style>\n",
       "\n",
       "  <script>\n",
       "    async function quickchart(key) {\n",
       "      const quickchartButtonEl =\n",
       "        document.querySelector('#' + key + ' button');\n",
       "      quickchartButtonEl.disabled = true;  // To prevent multiple clicks.\n",
       "      quickchartButtonEl.classList.add('colab-df-spinner');\n",
       "      try {\n",
       "        const charts = await google.colab.kernel.invokeFunction(\n",
       "            'suggestCharts', [key], {});\n",
       "      } catch (error) {\n",
       "        console.error('Error during call to suggestCharts:', error);\n",
       "      }\n",
       "      quickchartButtonEl.classList.remove('colab-df-spinner');\n",
       "      quickchartButtonEl.classList.add('colab-df-quickchart-complete');\n",
       "    }\n",
       "    (() => {\n",
       "      let quickchartButtonEl =\n",
       "        document.querySelector('#df-53f78eeb-b688-4216-8445-2bb3873de3be button');\n",
       "      quickchartButtonEl.style.display =\n",
       "        google.colab.kernel.accessAllowed ? 'block' : 'none';\n",
       "    })();\n",
       "  </script>\n",
       "</div>\n",
       "\n",
       "    </div>\n",
       "  </div>\n"
      ],
      "text/plain": [
       "                                             comment_text  toxic  \\\n",
       "46733   \"\\n\\nOh, don't worry about me, Sandstein. I'm ...      0   \n",
       "110326               Are you trying to dispute that fact?      0   \n",
       "76687   SWOT analysis \\n\\nThis source – Align Technolo...      0   \n",
       "36231   cover \\n\\nso, do we want a current or older co...      0   \n",
       "21514   P.S. It's probably worth setting up a template...      0   \n",
       "\n",
       "        severe_toxic  obscene  threat  insult  identity_hate  sum_injurious  \\\n",
       "46733              0        0       0       0              0              0   \n",
       "110326             0        0       0       0              0              0   \n",
       "76687              0        0       0       0              0              0   \n",
       "36231              0        0       0       0              0              0   \n",
       "21514              0        0       0       0              0              0   \n",
       "\n",
       "       label_combination  \n",
       "46733        0_0_0_0_0_0  \n",
       "110326       0_0_0_0_0_0  \n",
       "76687        0_0_0_0_0_0  \n",
       "36231        0_0_0_0_0_0  \n",
       "21514        0_0_0_0_0_0  "
      ]
     },
     "execution_count": 20,
     "metadata": {},
     "output_type": "execute_result"
    }
   ],
   "source": [
    "df_hostile = df[df['label_combination'] != '0_0_0_0_0_0']\n",
    "df_balanced = pd.concat([df_non_hostile, df_hostile])\n",
    "df_balanced.head()"
   ]
  },
  {
   "cell_type": "markdown",
   "metadata": {
    "id": "EEOcB7m57vK_"
   },
   "source": [
    "Let's now balance the levels of hostile sentences. We start by calculating what portion each level should have to total 16,225 instances overall."
   ]
  },
  {
   "cell_type": "code",
   "execution_count": null,
   "metadata": {
    "colab": {
     "base_uri": "https://localhost:8080/"
    },
    "id": "VxHXLe20ocH3",
    "outputId": "0f60ca82-e05e-49b7-c83c-186ca9de31f9"
   },
   "outputs": [
    {
     "data": {
      "text/plain": [
       "40"
      ]
     },
     "execution_count": 21,
     "metadata": {},
     "output_type": "execute_result"
    }
   ],
   "source": [
    "num_classes_hostile = df_hostile['label_combination'].nunique()\n",
    "num_classes_hostile"
   ]
  },
  {
   "cell_type": "code",
   "execution_count": null,
   "metadata": {
    "colab": {
     "base_uri": "https://localhost:8080/"
    },
    "id": "uhNKNt7tocKf",
    "outputId": "c36bb117-13b1-4fd5-ad94-88cd08a0dca2"
   },
   "outputs": [
    {
     "data": {
      "text/plain": [
       "405"
      ]
     },
     "execution_count": 22,
     "metadata": {},
     "output_type": "execute_result"
    }
   ],
   "source": [
    "samples_per_class = df_non_hostile.shape[0] // num_classes_hostile\n",
    "samples_per_class"
   ]
  },
  {
   "cell_type": "markdown",
   "metadata": {
    "id": "2tvUTa8a8hAl"
   },
   "source": [
    "Some levels have a higher number of instances and will need to be under-sampled, while the majority of hostile levels have a lower number and will need to be over-sampled. Let's start by identifying the hostile classes that have value_counts > 405."
   ]
  },
  {
   "cell_type": "code",
   "execution_count": null,
   "metadata": {
    "colab": {
     "base_uri": "https://localhost:8080/"
    },
    "id": "OPU2ZlVy_8xQ",
    "outputId": "045c0533-0753-40e7-92a8-aed85598c0c8"
   },
   "outputs": [
    {
     "data": {
      "text/plain": [
       "['1_0_0_0_0_0',\n",
       " '1_0_1_0_1_0',\n",
       " '1_0_1_0_0_0',\n",
       " '1_0_0_0_1_0',\n",
       " '1_1_1_0_1_0',\n",
       " '1_0_1_0_1_1']"
      ]
     },
     "execution_count": 23,
     "metadata": {},
     "output_type": "execute_result"
    }
   ],
   "source": [
    "hostile_numbers = df_hostile['label_combination'].value_counts()\n",
    "hostiles_to_undersample = hostile_numbers[hostile_numbers>samples_per_class].index.tolist()\n",
    "hostiles_to_undersample"
   ]
  },
  {
   "cell_type": "code",
   "execution_count": null,
   "metadata": {
    "colab": {
     "base_uri": "https://localhost:8080/"
    },
    "id": "yEU4jEBpqMAa",
    "outputId": "c37dcf79-2b9f-4a0c-868b-2c3de582f7e2"
   },
   "outputs": [
    {
     "data": {
      "text/plain": [
       "['0_0_1_0_0_0',\n",
       " '0_0_0_0_1_0',\n",
       " '1_1_1_0_1_1',\n",
       " '0_0_1_0_1_0',\n",
       " '1_1_1_0_0_0',\n",
       " '1_0_0_0_0_1',\n",
       " '1_0_0_0_1_1',\n",
       " '1_0_1_1_1_0',\n",
       " '1_0_0_1_0_0',\n",
       " '1_1_1_1_1_0',\n",
       " '1_0_1_1_1_1',\n",
       " '0_0_0_0_0_1',\n",
       " '1_1_0_0_0_0',\n",
       " '1_0_1_0_0_1',\n",
       " '1_1_1_1_1_1',\n",
       " '0_0_0_0_1_1',\n",
       " '0_0_0_1_0_0',\n",
       " '0_0_1_0_1_1',\n",
       " '1_0_0_1_1_0',\n",
       " '1_1_0_0_1_0',\n",
       " '1_1_0_1_0_0',\n",
       " '1_0_1_1_0_0',\n",
       " '1_1_0_0_1_1',\n",
       " '1_0_0_1_0_1',\n",
       " '1_1_1_0_0_1',\n",
       " '1_1_1_1_0_0',\n",
       " '0_0_0_1_1_0',\n",
       " '1_0_0_1_1_1',\n",
       " '1_1_0_0_0_1',\n",
       " '0_0_1_0_0_1',\n",
       " '0_0_1_1_0_0',\n",
       " '0_0_1_1_1_0',\n",
       " '1_1_0_1_1_0',\n",
       " '1_1_0_1_0_1']"
      ]
     },
     "execution_count": 24,
     "metadata": {},
     "output_type": "execute_result"
    }
   ],
   "source": [
    "hostiles_to_oversample = hostile_numbers[hostile_numbers<samples_per_class].index.tolist()\n",
    "hostiles_to_oversample"
   ]
  },
  {
   "cell_type": "markdown",
   "metadata": {
    "id": "foyXDysCAr6a"
   },
   "source": [
    "Proceed with hostiles_to_undersample undersampling"
   ]
  },
  {
   "cell_type": "code",
   "execution_count": null,
   "metadata": {
    "id": "trvgRLjYocXn"
   },
   "outputs": [],
   "source": [
    "undersampled_data = []\n",
    "oversampled_data = []"
   ]
  },
  {
   "cell_type": "code",
   "execution_count": null,
   "metadata": {
    "id": "xAxj9hFlocfq"
   },
   "outputs": [],
   "source": [
    "for cls in hostiles_to_undersample:\n",
    "    cls_data = df_hostile[df_hostile['label_combination'] == cls]\n",
    "    undersampled_data.append(cls_data.sample(n=405, random_state=42))"
   ]
  },
  {
   "cell_type": "markdown",
   "metadata": {
    "id": "yPCOItSKr1Od"
   },
   "source": [
    "Oversampling hostiles_to_oversample"
   ]
  },
  {
   "cell_type": "code",
   "execution_count": null,
   "metadata": {
    "id": "4kXo67lfociP"
   },
   "outputs": [],
   "source": [
    "for cls in df_hostile['label_combination'].unique():\n",
    "    if cls not in hostiles_to_undersample:\n",
    "        cls_data = df_hostile[df_hostile['label_combination'] == cls]\n",
    "        if len(cls_data) <= 405:\n",
    "            n_repeats = 405 // len(cls_data)\n",
    "            remainder = 405 % len(cls_data)\n",
    "            oversampled_data.append(pd.concat([cls_data] * n_repeats + [cls_data.sample(n=remainder, random_state=42)]))\n",
    "        else:\n",
    "            undersampled_data.append(cls_data.sample(n=405, random_state=42))"
   ]
  },
  {
   "cell_type": "markdown",
   "metadata": {
    "id": "uA3I6Yq8skAg"
   },
   "source": [
    "Combine over and under sampled data"
   ]
  },
  {
   "cell_type": "code",
   "execution_count": null,
   "metadata": {
    "id": "pYuAS7Fkocp3"
   },
   "outputs": [],
   "source": [
    "df_hostile_balanced = pd.concat(undersampled_data + oversampled_data)"
   ]
  },
  {
   "cell_type": "markdown",
   "metadata": {
    "id": "Fk6IcRvNsw_R"
   },
   "source": [
    "Combine balanced hostile and non-hostile sentences in the new df"
   ]
  },
  {
   "cell_type": "code",
   "execution_count": null,
   "metadata": {
    "id": "C80BvUXhocvP"
   },
   "outputs": [],
   "source": [
    "df_resampled = pd.concat([df_non_hostile, df_hostile_balanced])\n",
    "y_resampled = pd.concat([df_non_hostile[['toxic', 'severe_toxic', 'obscene', 'threat', 'insult', 'identity_hate']], df_hostile_balanced[['toxic', 'severe_toxic', 'obscene', 'threat', 'insult', 'identity_hate']]])"
   ]
  },
  {
   "cell_type": "markdown",
   "metadata": {
    "id": "V-EoS2r10GsU"
   },
   "source": [
    "Extract a row for a quick check"
   ]
  },
  {
   "cell_type": "code",
   "execution_count": null,
   "metadata": {
    "colab": {
     "base_uri": "https://localhost:8080/",
     "height": 366
    },
    "id": "Ldk2Hbdkocxx",
    "outputId": "f5e87c55-2a2d-4687-9b75-ea88619e252a"
   },
   "outputs": [
    {
     "data": {
      "text/html": [
       "<div>\n",
       "<style scoped>\n",
       "    .dataframe tbody tr th:only-of-type {\n",
       "        vertical-align: middle;\n",
       "    }\n",
       "\n",
       "    .dataframe tbody tr th {\n",
       "        vertical-align: top;\n",
       "    }\n",
       "\n",
       "    .dataframe thead th {\n",
       "        text-align: right;\n",
       "    }\n",
       "</style>\n",
       "<table border=\"1\" class=\"dataframe\">\n",
       "  <thead>\n",
       "    <tr style=\"text-align: right;\">\n",
       "      <th></th>\n",
       "      <th>16383</th>\n",
       "    </tr>\n",
       "  </thead>\n",
       "  <tbody>\n",
       "    <tr>\n",
       "      <th>comment_text</th>\n",
       "      <td>\"\\n\\nFUCK YOU YOU CUNT I HAD A WHOLE DOCUMENTA...</td>\n",
       "    </tr>\n",
       "    <tr>\n",
       "      <th>toxic</th>\n",
       "      <td>1</td>\n",
       "    </tr>\n",
       "    <tr>\n",
       "      <th>severe_toxic</th>\n",
       "      <td>1</td>\n",
       "    </tr>\n",
       "    <tr>\n",
       "      <th>obscene</th>\n",
       "      <td>1</td>\n",
       "    </tr>\n",
       "    <tr>\n",
       "      <th>threat</th>\n",
       "      <td>0</td>\n",
       "    </tr>\n",
       "    <tr>\n",
       "      <th>insult</th>\n",
       "      <td>1</td>\n",
       "    </tr>\n",
       "    <tr>\n",
       "      <th>identity_hate</th>\n",
       "      <td>0</td>\n",
       "    </tr>\n",
       "    <tr>\n",
       "      <th>sum_injurious</th>\n",
       "      <td>4</td>\n",
       "    </tr>\n",
       "    <tr>\n",
       "      <th>label_combination</th>\n",
       "      <td>1_1_1_0_1_0</td>\n",
       "    </tr>\n",
       "  </tbody>\n",
       "</table>\n",
       "</div><br><label><b>dtype:</b> object</label>"
      ],
      "text/plain": [
       "comment_text         \"\\n\\nFUCK YOU YOU CUNT I HAD A WHOLE DOCUMENTA...\n",
       "toxic                                                                1\n",
       "severe_toxic                                                         1\n",
       "obscene                                                              1\n",
       "threat                                                               0\n",
       "insult                                                               1\n",
       "identity_hate                                                        0\n",
       "sum_injurious                                                        4\n",
       "label_combination                                          1_1_1_0_1_0\n",
       "Name: 16383, dtype: object"
      ]
     },
     "execution_count": 30,
     "metadata": {},
     "output_type": "execute_result"
    }
   ],
   "source": [
    "df_resampled.iloc[18000]"
   ]
  },
  {
   "cell_type": "markdown",
   "metadata": {
    "id": "8UYl9A3_0L6F"
   },
   "source": [
    "Check that y are equally partitioned between hostile and non-hostile, and that the hostile are balanced internally"
   ]
  },
  {
   "cell_type": "code",
   "execution_count": null,
   "metadata": {
    "colab": {
     "base_uri": "https://localhost:8080/",
     "height": 1000
    },
    "id": "JGanfCORz_1d",
    "outputId": "fcfdaea5-3d18-4b25-f2ff-45140daebd7c"
   },
   "outputs": [
    {
     "data": {
      "text/html": [
       "<div>\n",
       "<style scoped>\n",
       "    .dataframe tbody tr th:only-of-type {\n",
       "        vertical-align: middle;\n",
       "    }\n",
       "\n",
       "    .dataframe tbody tr th {\n",
       "        vertical-align: top;\n",
       "    }\n",
       "\n",
       "    .dataframe thead th {\n",
       "        text-align: right;\n",
       "    }\n",
       "</style>\n",
       "<table border=\"1\" class=\"dataframe\">\n",
       "  <thead>\n",
       "    <tr style=\"text-align: right;\">\n",
       "      <th></th>\n",
       "      <th></th>\n",
       "      <th></th>\n",
       "      <th></th>\n",
       "      <th></th>\n",
       "      <th></th>\n",
       "      <th>count</th>\n",
       "    </tr>\n",
       "    <tr>\n",
       "      <th>toxic</th>\n",
       "      <th>severe_toxic</th>\n",
       "      <th>obscene</th>\n",
       "      <th>threat</th>\n",
       "      <th>insult</th>\n",
       "      <th>identity_hate</th>\n",
       "      <th></th>\n",
       "    </tr>\n",
       "  </thead>\n",
       "  <tbody>\n",
       "    <tr>\n",
       "      <th>0</th>\n",
       "      <th>0</th>\n",
       "      <th>0</th>\n",
       "      <th>0</th>\n",
       "      <th>0</th>\n",
       "      <th>0</th>\n",
       "      <td>16225</td>\n",
       "    </tr>\n",
       "    <tr>\n",
       "      <th rowspan=\"20\" valign=\"top\">1</th>\n",
       "      <th rowspan=\"5\" valign=\"top\">0</th>\n",
       "      <th rowspan=\"5\" valign=\"top\">1</th>\n",
       "      <th rowspan=\"2\" valign=\"top\">0</th>\n",
       "      <th>0</th>\n",
       "      <th>1</th>\n",
       "      <td>405</td>\n",
       "    </tr>\n",
       "    <tr>\n",
       "      <th>1</th>\n",
       "      <th>1</th>\n",
       "      <td>405</td>\n",
       "    </tr>\n",
       "    <tr>\n",
       "      <th rowspan=\"3\" valign=\"top\">1</th>\n",
       "      <th>0</th>\n",
       "      <th>0</th>\n",
       "      <td>405</td>\n",
       "    </tr>\n",
       "    <tr>\n",
       "      <th rowspan=\"2\" valign=\"top\">1</th>\n",
       "      <th>0</th>\n",
       "      <td>405</td>\n",
       "    </tr>\n",
       "    <tr>\n",
       "      <th>1</th>\n",
       "      <td>405</td>\n",
       "    </tr>\n",
       "    <tr>\n",
       "      <th rowspan=\"13\" valign=\"top\">1</th>\n",
       "      <th rowspan=\"7\" valign=\"top\">0</th>\n",
       "      <th rowspan=\"4\" valign=\"top\">0</th>\n",
       "      <th rowspan=\"2\" valign=\"top\">0</th>\n",
       "      <th>0</th>\n",
       "      <td>405</td>\n",
       "    </tr>\n",
       "    <tr>\n",
       "      <th>1</th>\n",
       "      <td>405</td>\n",
       "    </tr>\n",
       "    <tr>\n",
       "      <th rowspan=\"2\" valign=\"top\">1</th>\n",
       "      <th>0</th>\n",
       "      <td>405</td>\n",
       "    </tr>\n",
       "    <tr>\n",
       "      <th>1</th>\n",
       "      <td>405</td>\n",
       "    </tr>\n",
       "    <tr>\n",
       "      <th rowspan=\"3\" valign=\"top\">1</th>\n",
       "      <th rowspan=\"2\" valign=\"top\">0</th>\n",
       "      <th>0</th>\n",
       "      <td>405</td>\n",
       "    </tr>\n",
       "    <tr>\n",
       "      <th>1</th>\n",
       "      <td>405</td>\n",
       "    </tr>\n",
       "    <tr>\n",
       "      <th>1</th>\n",
       "      <th>0</th>\n",
       "      <td>405</td>\n",
       "    </tr>\n",
       "    <tr>\n",
       "      <th rowspan=\"6\" valign=\"top\">1</th>\n",
       "      <th rowspan=\"4\" valign=\"top\">0</th>\n",
       "      <th rowspan=\"2\" valign=\"top\">0</th>\n",
       "      <th>0</th>\n",
       "      <td>405</td>\n",
       "    </tr>\n",
       "    <tr>\n",
       "      <th>1</th>\n",
       "      <td>405</td>\n",
       "    </tr>\n",
       "    <tr>\n",
       "      <th rowspan=\"2\" valign=\"top\">1</th>\n",
       "      <th>0</th>\n",
       "      <td>405</td>\n",
       "    </tr>\n",
       "    <tr>\n",
       "      <th>1</th>\n",
       "      <td>405</td>\n",
       "    </tr>\n",
       "    <tr>\n",
       "      <th rowspan=\"2\" valign=\"top\">1</th>\n",
       "      <th>0</th>\n",
       "      <th>0</th>\n",
       "      <td>405</td>\n",
       "    </tr>\n",
       "    <tr>\n",
       "      <th>1</th>\n",
       "      <th>0</th>\n",
       "      <td>405</td>\n",
       "    </tr>\n",
       "    <tr>\n",
       "      <th rowspan=\"2\" valign=\"top\">0</th>\n",
       "      <th rowspan=\"2\" valign=\"top\">1</th>\n",
       "      <th rowspan=\"2\" valign=\"top\">0</th>\n",
       "      <th>1</th>\n",
       "      <th>0</th>\n",
       "      <td>405</td>\n",
       "    </tr>\n",
       "    <tr>\n",
       "      <th>0</th>\n",
       "      <th>0</th>\n",
       "      <td>405</td>\n",
       "    </tr>\n",
       "    <tr>\n",
       "      <th>0</th>\n",
       "      <th>0</th>\n",
       "      <th>0</th>\n",
       "      <th>0</th>\n",
       "      <th>0</th>\n",
       "      <th>1</th>\n",
       "      <td>405</td>\n",
       "    </tr>\n",
       "    <tr>\n",
       "      <th>1</th>\n",
       "      <th>0</th>\n",
       "      <th>0</th>\n",
       "      <th>1</th>\n",
       "      <th>1</th>\n",
       "      <th>1</th>\n",
       "      <td>405</td>\n",
       "    </tr>\n",
       "    <tr>\n",
       "      <th rowspan=\"10\" valign=\"top\">0</th>\n",
       "      <th rowspan=\"10\" valign=\"top\">0</th>\n",
       "      <th rowspan=\"4\" valign=\"top\">0</th>\n",
       "      <th rowspan=\"2\" valign=\"top\">0</th>\n",
       "      <th rowspan=\"2\" valign=\"top\">1</th>\n",
       "      <th>0</th>\n",
       "      <td>405</td>\n",
       "    </tr>\n",
       "    <tr>\n",
       "      <th>1</th>\n",
       "      <td>405</td>\n",
       "    </tr>\n",
       "    <tr>\n",
       "      <th rowspan=\"2\" valign=\"top\">1</th>\n",
       "      <th>0</th>\n",
       "      <th>0</th>\n",
       "      <td>405</td>\n",
       "    </tr>\n",
       "    <tr>\n",
       "      <th>1</th>\n",
       "      <th>0</th>\n",
       "      <td>405</td>\n",
       "    </tr>\n",
       "    <tr>\n",
       "      <th rowspan=\"6\" valign=\"top\">1</th>\n",
       "      <th rowspan=\"4\" valign=\"top\">0</th>\n",
       "      <th rowspan=\"2\" valign=\"top\">0</th>\n",
       "      <th>0</th>\n",
       "      <td>405</td>\n",
       "    </tr>\n",
       "    <tr>\n",
       "      <th>1</th>\n",
       "      <td>405</td>\n",
       "    </tr>\n",
       "    <tr>\n",
       "      <th rowspan=\"2\" valign=\"top\">1</th>\n",
       "      <th>0</th>\n",
       "      <td>405</td>\n",
       "    </tr>\n",
       "    <tr>\n",
       "      <th>1</th>\n",
       "      <td>405</td>\n",
       "    </tr>\n",
       "    <tr>\n",
       "      <th rowspan=\"2\" valign=\"top\">1</th>\n",
       "      <th>0</th>\n",
       "      <th>0</th>\n",
       "      <td>405</td>\n",
       "    </tr>\n",
       "    <tr>\n",
       "      <th>1</th>\n",
       "      <th>0</th>\n",
       "      <td>405</td>\n",
       "    </tr>\n",
       "    <tr>\n",
       "      <th rowspan=\"8\" valign=\"top\">1</th>\n",
       "      <th rowspan=\"7\" valign=\"top\">0</th>\n",
       "      <th rowspan=\"7\" valign=\"top\">0</th>\n",
       "      <th rowspan=\"4\" valign=\"top\">0</th>\n",
       "      <th rowspan=\"2\" valign=\"top\">0</th>\n",
       "      <th>0</th>\n",
       "      <td>405</td>\n",
       "    </tr>\n",
       "    <tr>\n",
       "      <th>1</th>\n",
       "      <td>405</td>\n",
       "    </tr>\n",
       "    <tr>\n",
       "      <th rowspan=\"2\" valign=\"top\">1</th>\n",
       "      <th>0</th>\n",
       "      <td>405</td>\n",
       "    </tr>\n",
       "    <tr>\n",
       "      <th>1</th>\n",
       "      <td>405</td>\n",
       "    </tr>\n",
       "    <tr>\n",
       "      <th rowspan=\"3\" valign=\"top\">1</th>\n",
       "      <th rowspan=\"2\" valign=\"top\">0</th>\n",
       "      <th>0</th>\n",
       "      <td>405</td>\n",
       "    </tr>\n",
       "    <tr>\n",
       "      <th>1</th>\n",
       "      <td>405</td>\n",
       "    </tr>\n",
       "    <tr>\n",
       "      <th>1</th>\n",
       "      <th>0</th>\n",
       "      <td>405</td>\n",
       "    </tr>\n",
       "    <tr>\n",
       "      <th>1</th>\n",
       "      <th>1</th>\n",
       "      <th>1</th>\n",
       "      <th>1</th>\n",
       "      <th>1</th>\n",
       "      <td>405</td>\n",
       "    </tr>\n",
       "  </tbody>\n",
       "</table>\n",
       "</div><br><label><b>dtype:</b> int64</label>"
      ],
      "text/plain": [
       "toxic  severe_toxic  obscene  threat  insult  identity_hate\n",
       "0      0             0        0       0       0                16225\n",
       "1      0             1        0       0       1                  405\n",
       "                                      1       1                  405\n",
       "                              1       0       0                  405\n",
       "                                      1       0                  405\n",
       "                                              1                  405\n",
       "       1             0        0       0       0                  405\n",
       "                                              1                  405\n",
       "                                      1       0                  405\n",
       "                                              1                  405\n",
       "                              1       0       0                  405\n",
       "                                              1                  405\n",
       "                                      1       0                  405\n",
       "                     1        0       0       0                  405\n",
       "                                              1                  405\n",
       "                                      1       0                  405\n",
       "                                              1                  405\n",
       "                              1       0       0                  405\n",
       "                                      1       0                  405\n",
       "       0             1        0       1       0                  405\n",
       "                                      0       0                  405\n",
       "0      0             0        0       0       1                  405\n",
       "1      0             0        1       1       1                  405\n",
       "0      0             0        0       1       0                  405\n",
       "                                              1                  405\n",
       "                              1       0       0                  405\n",
       "                                      1       0                  405\n",
       "                     1        0       0       0                  405\n",
       "                                              1                  405\n",
       "                                      1       0                  405\n",
       "                                              1                  405\n",
       "                              1       0       0                  405\n",
       "                                      1       0                  405\n",
       "1      0             0        0       0       0                  405\n",
       "                                              1                  405\n",
       "                                      1       0                  405\n",
       "                                              1                  405\n",
       "                              1       0       0                  405\n",
       "                                              1                  405\n",
       "                                      1       0                  405\n",
       "       1             1        1       1       1                  405\n",
       "Name: count, dtype: int64"
      ]
     },
     "execution_count": 31,
     "metadata": {},
     "output_type": "execute_result"
    }
   ],
   "source": [
    "y_resampled.value_counts()"
   ]
  },
  {
   "cell_type": "markdown",
   "metadata": {
    "id": "KXBegJJftIXe"
   },
   "source": [
    "### 3.2 Text Cleaning"
   ]
  },
  {
   "cell_type": "markdown",
   "metadata": {
    "id": "PJuSFF3F0WOS"
   },
   "source": [
    "Now that the dataframe is balanced, we can begin with the actual delivery of the project. Let's start with text cleaning using a function to convert text to lowercase and remove characters that are not relevant to the model."
   ]
  },
  {
   "cell_type": "code",
   "execution_count": null,
   "metadata": {
    "id": "2Vg9Ac1Ooc0P"
   },
   "outputs": [],
   "source": [
    "def text_preprocessing(text):\n",
    "    text = text.lower()\n",
    "    text = re.sub(r'\\d+', '', text)\n",
    "    text = re.sub(r'[^\\w\\s]', '', text)\n",
    "    text = text.translate(str.maketrans('', '', string.punctuation))\n",
    "    text = re.sub(r'\\s+', ' ', text).strip()\n",
    "    text = re.sub(r'\\n', ' ', text)\n",
    "    text = re.sub(r'$$.*?$$', '', text)\n",
    "    text = re.sub(r'https?://\\S+|www\\.\\S+', '', text)\n",
    "    text = re.sub(r'<.*?>+', '', text)\n",
    "    return text"
   ]
  },
  {
   "cell_type": "markdown",
   "metadata": {
    "id": "_uAX29vot1yW"
   },
   "source": [
    "Function application to balanced dataframe"
   ]
  },
  {
   "cell_type": "code",
   "execution_count": null,
   "metadata": {
    "id": "LlpuIZv4oc5X"
   },
   "outputs": [],
   "source": [
    "df_resampled['comment_text'] = df['comment_text'].apply(text_preprocessing)"
   ]
  },
  {
   "cell_type": "markdown",
   "metadata": {
    "id": "2qYVd9dQz1a3"
   },
   "source": [
    "### 3.3 Train-Validation-Test partitioning"
   ]
  },
  {
   "cell_type": "markdown",
   "metadata": {
    "id": "ifEjNJ9300XN"
   },
   "source": [
    "Partitioning of temporary train set and test set"
   ]
  },
  {
   "cell_type": "code",
   "execution_count": null,
   "metadata": {
    "id": "HTBW2w32z1Ia"
   },
   "outputs": [],
   "source": [
    "X_train, X_test, y_train, y_test = train_test_split(df_resampled['comment_text'], y_resampled, test_size=0.2, random_state=42, stratify = df_resampled['label_combination'])"
   ]
  },
  {
   "cell_type": "markdown",
   "metadata": {
    "id": "OUHChxzQ1Pqd"
   },
   "source": [
    "Partitioning real train set and validation set"
   ]
  },
  {
   "cell_type": "code",
   "execution_count": null,
   "metadata": {
    "id": "UOobYgYn1PJ8"
   },
   "outputs": [],
   "source": [
    "X_train, X_val, y_train, y_val = train_test_split(X_train, y_train, test_size=0.2, random_state = 42, stratify = y_train.apply(lambda row: '_'.join(row.astype(str)), axis=1))"
   ]
  },
  {
   "cell_type": "markdown",
   "metadata": {
    "id": "XV0yY-he3ZSi"
   },
   "source": [
    "### 3.4 Lemmatization, tokenization, sequencing and padding"
   ]
  },
  {
   "cell_type": "markdown",
   "metadata": {
    "id": "A3Sgr7Lb7wC8"
   },
   "source": [
    "Lemmatizer, lemmatizing function and tokenizer initialization"
   ]
  },
  {
   "cell_type": "code",
   "execution_count": null,
   "metadata": {
    "id": "_-1DAxKb6Pj_"
   },
   "outputs": [],
   "source": [
    "lemmatizer = WordNetLemmatizer()"
   ]
  },
  {
   "cell_type": "code",
   "execution_count": null,
   "metadata": {
    "id": "wjUvygWF71q8"
   },
   "outputs": [],
   "source": [
    "tokenizer = Tokenizer(num_words=10000)"
   ]
  },
  {
   "cell_type": "code",
   "execution_count": null,
   "metadata": {
    "id": "NEv8TfGU6ikt"
   },
   "outputs": [],
   "source": [
    "def lemmatize_text(text):\n",
    "    lemmatizer = WordNetLemmatizer()\n",
    "    words = text.split()\n",
    "    lemmatized_words = [lemmatizer.lemmatize(word) for word in words]\n",
    "    return ' '.join(lemmatized_words)"
   ]
  },
  {
   "cell_type": "markdown",
   "metadata": {
    "id": "9wGgzjk6MchX"
   },
   "source": [
    "Preprocessing, lemmatization and tokenization function to use at the end of the process of a random sentence"
   ]
  },
  {
   "cell_type": "code",
   "execution_count": null,
   "metadata": {
    "id": "3zeIVzWqWaqU"
   },
   "outputs": [],
   "source": [
    "def preprocess_single_text(text):\n",
    "    # Text Preprocessing\n",
    "    text = text.lower()\n",
    "    text = re.sub(r'\\d+', '', text)\n",
    "    text = re.sub(r'[^\\w\\s]', '', text)\n",
    "    text = text.translate(str.maketrans('', '', string.punctuation))\n",
    "    text = re.sub(r'\\s+', ' ', text).strip()\n",
    "    text = re.sub(r'\\n', ' ', text)\n",
    "    text = re.sub(r'$$.*?$$', '', text)\n",
    "    text = re.sub(r'https?://\\S+|www\\.\\S+', '', text)\n",
    "    text = re.sub(r'<.*?>+', '', text)\n",
    "\n",
    "    # Lemmatization\n",
    "    text = lemmatize_text(text)\n",
    "\n",
    "    # Tokenization and Padding\n",
    "    sequence = tokenizer.texts_to_sequences([text])\n",
    "    padded_sequence = pad_sequences(sequence, maxlen=max_len)\n",
    "\n",
    "    return padded_sequence"
   ]
  },
  {
   "cell_type": "markdown",
   "metadata": {
    "id": "UIKWRBvb72R3"
   },
   "source": [
    "We apply the lemmatize function to the train, validation, and test sets because in this case, there isn't a true fit, so it is possible to do it. This is different from what will be done with the Keras Tokenizer, which should only be applied to the train set."
   ]
  },
  {
   "cell_type": "code",
   "execution_count": null,
   "metadata": {
    "id": "UZYWEJI971tB"
   },
   "outputs": [],
   "source": [
    "X_train_lemmatized = X_train.apply(lemmatize_text)\n",
    "X_val_lemmatized = X_val.apply(lemmatize_text)\n",
    "X_test_lemmatized = X_test.apply(lemmatize_text)"
   ]
  },
  {
   "cell_type": "code",
   "execution_count": null,
   "metadata": {
    "id": "KSIdI6GH71m-"
   },
   "outputs": [],
   "source": [
    "tokenizer.fit_on_texts(X_train_lemmatized)"
   ]
  },
  {
   "cell_type": "markdown",
   "metadata": {
    "id": "CnLpl5Z89Hdd"
   },
   "source": [
    "Lemmatization has been performed on all three sets, and now it is possible to proceed with tokenization using Keras. The choice of Keras is necessary since the data will be fed into a neural network, otherwise deterministic tokenization with nltk could have been used. This is also the reason why the Keras Tokenizer fit is applied only to the training set, because it is a true fit, unlike the nltk tokenize which, not being a fit, could and should have been applied as a transformation to all three sets: train, validation, and test."
   ]
  },
  {
   "cell_type": "markdown",
   "metadata": {
    "id": "VzKcJbyM-pr_"
   },
   "source": [
    "Sequencing"
   ]
  },
  {
   "cell_type": "code",
   "execution_count": null,
   "metadata": {
    "id": "QLTGvunY71kV"
   },
   "outputs": [],
   "source": [
    "X_train_seq = tokenizer.texts_to_sequences(X_train_lemmatized)\n",
    "X_val_seq = tokenizer.texts_to_sequences(X_val_lemmatized)\n",
    "X_test_seq = tokenizer.texts_to_sequences(X_test_lemmatized)"
   ]
  },
  {
   "cell_type": "markdown",
   "metadata": {
    "id": "tQB945Oy-X_-"
   },
   "source": [
    "Sequence padding, first calculate maxlen as median of the existing lengths"
   ]
  },
  {
   "cell_type": "code",
   "execution_count": null,
   "metadata": {
    "id": "x6IjpA0a71iY"
   },
   "outputs": [],
   "source": [
    "sequences_length = []\n",
    "for seq in X_train_seq:\n",
    "  sequences_length.append(len(seq))"
   ]
  },
  {
   "cell_type": "code",
   "execution_count": null,
   "metadata": {
    "colab": {
     "base_uri": "https://localhost:8080/"
    },
    "id": "bzUuAdVYAkI5",
    "outputId": "54cddfcf-7fb6-4dbc-fe8f-a3fa0bd4b98d"
   },
   "outputs": [
    {
     "name": "stdout",
     "output_type": "stream",
     "text": [
      "30\n"
     ]
    }
   ],
   "source": [
    "max_len = int(np.median(sequences_length))\n",
    "print(max_len)"
   ]
  },
  {
   "cell_type": "code",
   "execution_count": null,
   "metadata": {
    "id": "44tUWS5kE_US"
   },
   "outputs": [],
   "source": [
    "X_train_pad = pad_sequences(X_train_seq, maxlen=max_len)\n",
    "X_val_pad = pad_sequences(X_val_seq, maxlen=max_len)\n",
    "X_test_pad = pad_sequences(X_test_seq, maxlen=max_len)"
   ]
  },
  {
   "cell_type": "code",
   "execution_count": null,
   "metadata": {},
   "outputs": [],
   "source": [
    "corpus = X_train\n",
    "num_words = 10000\n",
    "tokenizer = Tokenizer(num_words=num_words, oov_token='<OOV>')\n",
    "tokenizer.fit_on_texts(corpus)\n",
    "sequences = tokenizer.texts_to_sequences(corpus)\n",
    "sequences_lengths = [len(seq) for seq in sequences]\n",
    "max_len = int(np.median(sequences_lengths))\n",
    "print(max_len)"
   ]
  },
  {
   "cell_type": "markdown",
   "metadata": {
    "id": "EFzVs3RjBlJ1"
   },
   "source": [
    "Definiamo il vocab_size"
   ]
  },
  {
   "cell_type": "code",
   "execution_count": null,
   "metadata": {
    "colab": {
     "base_uri": "https://localhost:8080/"
    },
    "id": "sLhsc3-_odOP",
    "outputId": "58bb2c83-eb3d-4135-fa97-3ac7213764ab"
   },
   "outputs": [
    {
     "name": "stdout",
     "output_type": "stream",
     "text": [
      "42840\n"
     ]
    }
   ],
   "source": [
    "vocab_size = len(tokenizer.word_index) +1\n",
    "print(vocab_size)"
   ]
  },
  {
   "cell_type": "markdown",
   "metadata": {
    "id": "uRe-ox4qB8QE"
   },
   "source": [
    "# 4 Model"
   ]
  },
  {
   "cell_type": "markdown",
   "metadata": {
    "id": "NTFPR9tBB-Jz"
   },
   "source": [
    "### 4.1 Base model definition"
   ]
  },
  {
   "cell_type": "code",
   "execution_count": null,
   "metadata": {
    "colab": {
     "base_uri": "https://localhost:8080/"
    },
    "id": "IGqF_W9o4Kct",
    "outputId": "cdb57169-29ee-466e-ed6f-8c5e8f77b86d"
   },
   "outputs": [
    {
     "name": "stderr",
     "output_type": "stream",
     "text": [
      "/usr/local/lib/python3.10/dist-packages/keras/src/layers/core/embedding.py:90: UserWarning: Argument `input_length` is deprecated. Just remove it.\n",
      "  warnings.warn(\n"
     ]
    }
   ],
   "source": [
    "model = Sequential()\n",
    "model.add(Embedding(input_dim=vocab_size, output_dim=128, input_length=max_len))\n",
    "model.add(Bidirectional(GRU(128, return_sequences=True)))\n",
    "model.add(Dropout(0.5))\n",
    "model.add(GRU(128))\n",
    "model.add(Dropout(0.5))\n",
    "model.add(Dense(64, activation='relu'))\n",
    "model.add(Dropout(0.5))\n",
    "model.add(Dense(y_train.shape[1], activation='sigmoid'))"
   ]
  },
  {
   "cell_type": "markdown",
   "metadata": {
    "id": "ODg8IgSqDkj5"
   },
   "source": [
    "### 4.2 Compile"
   ]
  },
  {
   "cell_type": "code",
   "execution_count": null,
   "metadata": {
    "id": "deZR2yGeCGNR"
   },
   "outputs": [],
   "source": [
    "model.compile(optimizer='adam', loss='binary_crossentropy', metrics=['accuracy'])"
   ]
  },
  {
   "cell_type": "markdown",
   "metadata": {
    "id": "lwr_zx0QEgJA"
   },
   "source": [
    "### 4.3 Fit"
   ]
  },
  {
   "cell_type": "code",
   "execution_count": null,
   "metadata": {
    "colab": {
     "base_uri": "https://localhost:8080/"
    },
    "id": "5QADMzC0CGSQ",
    "outputId": "9e2ac0c4-8102-4819-b3c3-e0a2605331c7"
   },
   "outputs": [
    {
     "name": "stdout",
     "output_type": "stream",
     "text": [
      "Epoch 1/10\n",
      "\u001b[1m649/649\u001b[0m \u001b[32m━━━━━━━━━━━━━━━━━━━━\u001b[0m\u001b[37m\u001b[0m \u001b[1m143s\u001b[0m 208ms/step - accuracy: 0.4353 - loss: 0.4095 - val_accuracy: 0.3508 - val_loss: 0.1610\n",
      "Epoch 2/10\n",
      "\u001b[1m649/649\u001b[0m \u001b[32m━━━━━━━━━━━━━━━━━━━━\u001b[0m\u001b[37m\u001b[0m \u001b[1m134s\u001b[0m 207ms/step - accuracy: 0.4662 - loss: 0.1683 - val_accuracy: 0.3626 - val_loss: 0.1249\n",
      "Epoch 3/10\n",
      "\u001b[1m649/649\u001b[0m \u001b[32m━━━━━━━━━━━━━━━━━━━━\u001b[0m\u001b[37m\u001b[0m \u001b[1m132s\u001b[0m 204ms/step - accuracy: 0.4345 - loss: 0.1216 - val_accuracy: 0.3975 - val_loss: 0.1121\n",
      "Epoch 4/10\n",
      "\u001b[1m649/649\u001b[0m \u001b[32m━━━━━━━━━━━━━━━━━━━━\u001b[0m\u001b[37m\u001b[0m \u001b[1m142s\u001b[0m 205ms/step - accuracy: 0.4931 - loss: 0.0977 - val_accuracy: 0.4514 - val_loss: 0.1107\n",
      "Epoch 5/10\n",
      "\u001b[1m649/649\u001b[0m \u001b[32m━━━━━━━━━━━━━━━━━━━━\u001b[0m\u001b[37m\u001b[0m \u001b[1m144s\u001b[0m 208ms/step - accuracy: 0.4814 - loss: 0.0806 - val_accuracy: 0.4657 - val_loss: 0.1177\n",
      "Epoch 6/10\n",
      "\u001b[1m649/649\u001b[0m \u001b[32m━━━━━━━━━━━━━━━━━━━━\u001b[0m\u001b[37m\u001b[0m \u001b[1m133s\u001b[0m 204ms/step - accuracy: 0.4663 - loss: 0.0721 - val_accuracy: 0.4192 - val_loss: 0.1238\n",
      "Epoch 7/10\n",
      "\u001b[1m649/649\u001b[0m \u001b[32m━━━━━━━━━━━━━━━━━━━━\u001b[0m\u001b[37m\u001b[0m \u001b[1m142s\u001b[0m 204ms/step - accuracy: 0.4999 - loss: 0.0670 - val_accuracy: 0.4792 - val_loss: 0.1239\n",
      "Epoch 8/10\n",
      "\u001b[1m649/649\u001b[0m \u001b[32m━━━━━━━━━━━━━━━━━━━━\u001b[0m\u001b[37m\u001b[0m \u001b[1m0s\u001b[0m 197ms/step - accuracy: 0.5365 - loss: 0.0565Epoch 9/10\n",
      "\u001b[1m649/649\u001b[0m \u001b[32m━━━━━━━━━━━━━━━━━━━━\u001b[0m\u001b[37m\u001b[0m \u001b[1m142s\u001b[0m 205ms/step - accuracy: 0.5534 - loss: 0.0488 - val_accuracy: 0.4985 - val_loss: 0.1346\n",
      "Epoch 10/10\n",
      "\u001b[1m649/649\u001b[0m \u001b[32m━━━━━━━━━━━━━━━━━━━━\u001b[0m\u001b[37m\u001b[0m \u001b[1m142s\u001b[0m 205ms/step - accuracy: 0.5382 - loss: 0.0533 - val_accuracy: 0.6168 - val_loss: 0.1421\n"
     ]
    }
   ],
   "source": [
    "history = model.fit(X_train_pad, y_train, epochs = 10, batch_size=32, validation_data =(X_val_pad, y_val))"
   ]
  },
  {
   "cell_type": "markdown",
   "metadata": {
    "id": "H7R0B9aoOdad"
   },
   "source": [
    "### 4.4 Model Evaluation"
   ]
  },
  {
   "cell_type": "code",
   "execution_count": null,
   "metadata": {
    "colab": {
     "base_uri": "https://localhost:8080/"
    },
    "id": "eYThDIgBCGUZ",
    "outputId": "cca5ee96-03bb-4f48-9929-5e13fff2c6dc"
   },
   "outputs": [
    {
     "name": "stdout",
     "output_type": "stream",
     "text": [
      "\u001b[1m203/203\u001b[0m \u001b[32m━━━━━━━━━━━━━━━━━━━━\u001b[0m\u001b[37m\u001b[0m \u001b[1m7s\u001b[0m 36ms/step - accuracy: 0.6169 - loss: 0.1732\n",
      "Test Loss: 0.16833093762397766, Test Accuracy: 0.616962194442749\n"
     ]
    }
   ],
   "source": [
    "evaluation = model.evaluate(X_test_pad, y_test)\n",
    "print(f'Test Loss: {evaluation[0]}, Test Accuracy: {evaluation[1]}')"
   ]
  },
  {
   "cell_type": "markdown",
   "metadata": {
    "id": "DtCA3tyiNyx2"
   },
   "source": [
    "# 5. Model test and improvement"
   ]
  },
  {
   "cell_type": "markdown",
   "metadata": {
    "id": "Dg-SZ0Fe55-d"
   },
   "source": [
    "### 5.1 Test on random sentence"
   ]
  },
  {
   "cell_type": "code",
   "execution_count": null,
   "metadata": {
    "id": "s5fE0OHa4Kmj"
   },
   "outputs": [],
   "source": [
    "sample_index = 100\n",
    "sample_text = X_test.iloc[sample_index]\n",
    "sample_true_labels = y_test.iloc[sample_index]"
   ]
  },
  {
   "cell_type": "code",
   "execution_count": null,
   "metadata": {
    "colab": {
     "base_uri": "https://localhost:8080/"
    },
    "id": "vZwhWTFPW609",
    "outputId": "4ee929fb-198a-462f-cb42-d73781d1e7be"
   },
   "outputs": [
    {
     "name": "stdout",
     "output_type": "stream",
     "text": [
      "\u001b[1m1/1\u001b[0m \u001b[32m━━━━━━━━━━━━━━━━━━━━\u001b[0m\u001b[37m\u001b[0m \u001b[1m1s\u001b[0m 609ms/step\n"
     ]
    }
   ],
   "source": [
    "preprocessed_text = preprocess_single_text(sample_text)\n",
    "predicted_labels = model.predict(preprocessed_text)[0]\n",
    "predicted_labels_binary = (predicted_labels >= 0.5).astype(int)"
   ]
  },
  {
   "cell_type": "code",
   "execution_count": null,
   "metadata": {
    "colab": {
     "base_uri": "https://localhost:8080/"
    },
    "id": "7a6_lrTxW63g",
    "outputId": "2f50bf83-8d48-4338-cff0-69e84288c6c2"
   },
   "outputs": [
    {
     "name": "stdout",
     "output_type": "stream",
     "text": [
      "Text: how bout you fuck off\n",
      "True Labels: [1 1 1 0 0 0]\n",
      "Predicted Labels: [1 1 1 0 0 0]\n"
     ]
    }
   ],
   "source": [
    "print(f\"Text: {sample_text}\")\n",
    "print(f\"True Labels: {sample_true_labels.values}\")\n",
    "print(f\"Predicted Labels: {predicted_labels_binary}\")"
   ]
  },
  {
   "cell_type": "markdown",
   "metadata": {
    "id": "YfS-bkYc2A3w"
   },
   "source": [
    "### 5.2 Test of improved base model"
   ]
  },
  {
   "cell_type": "code",
   "execution_count": null,
   "metadata": {
    "colab": {
     "base_uri": "https://localhost:8080/"
    },
    "id": "S7aTOTQYW65_",
    "outputId": "41ad7b18-27c2-42c7-f508-a343430668ea"
   },
   "outputs": [
    {
     "name": "stderr",
     "output_type": "stream",
     "text": [
      "/usr/local/lib/python3.10/dist-packages/keras/src/layers/core/embedding.py:90: UserWarning: Argument `input_length` is deprecated. Just remove it.\n",
      "  warnings.warn(\n"
     ]
    }
   ],
   "source": [
    "model2 = Sequential()\n",
    "model2.add(Embedding(input_dim=vocab_size, output_dim=128, input_length=max_len))\n",
    "model2.add(Bidirectional(LSTM(128, return_sequences=True)))\n",
    "model2.add(Dropout(0.5))\n",
    "model2.add(LSTM(128))\n",
    "model2.add(Dropout(0.5))\n",
    "model2.add(Dense(64, activation='relu'))\n",
    "model2.add(Dropout(0.5))\n",
    "model2.add(Dense(y_train.shape[1], activation='sigmoid'))"
   ]
  },
  {
   "cell_type": "code",
   "execution_count": null,
   "metadata": {
    "id": "fTngPd4xW6-E"
   },
   "outputs": [],
   "source": [
    "model2.compile(optimizer='rmsprop', loss='binary_crossentropy', metrics=['accuracy'])"
   ]
  },
  {
   "cell_type": "code",
   "execution_count": null,
   "metadata": {
    "colab": {
     "base_uri": "https://localhost:8080/"
    },
    "id": "ZrlHWRfoW7AN",
    "outputId": "f260136b-ae27-4e65-d37f-5ee5cb19dfcd"
   },
   "outputs": [
    {
     "name": "stdout",
     "output_type": "stream",
     "text": [
      "Epoch 1/20\n",
      "\u001b[1m649/649\u001b[0m \u001b[32m━━━━━━━━━━━━━━━━━━━━\u001b[0m\u001b[37m\u001b[0m \u001b[1m139s\u001b[0m 205ms/step - accuracy: 0.3955 - loss: 0.4550 - val_accuracy: 0.3477 - val_loss: 0.2814\n",
      "Epoch 2/20\n",
      "\u001b[1m649/649\u001b[0m \u001b[32m━━━━━━━━━━━━━━━━━━━━\u001b[0m\u001b[37m\u001b[0m \u001b[1m135s\u001b[0m 207ms/step - accuracy: 0.4271 - loss: 0.2754 - val_accuracy: 0.4767 - val_loss: 0.2024\n",
      "Epoch 3/20\n",
      "\u001b[1m649/649\u001b[0m \u001b[32m━━━━━━━━━━━━━━━━━━━━\u001b[0m\u001b[37m\u001b[0m \u001b[1m141s\u001b[0m 206ms/step - accuracy: 0.4691 - loss: 0.2120 - val_accuracy: 0.4721 - val_loss: 0.1630\n",
      "Epoch 4/20\n",
      "\u001b[1m649/649\u001b[0m \u001b[32m━━━━━━━━━━━━━━━━━━━━\u001b[0m\u001b[37m\u001b[0m \u001b[1m145s\u001b[0m 210ms/step - accuracy: 0.4750 - loss: 0.1708 - val_accuracy: 0.3855 - val_loss: 0.1366\n",
      "Epoch 5/20\n",
      "\u001b[1m649/649\u001b[0m \u001b[32m━━━━━━━━━━━━━━━━━━━━\u001b[0m\u001b[37m\u001b[0m \u001b[1m139s\u001b[0m 207ms/step - accuracy: 0.4761 - loss: 0.1400 - val_accuracy: 0.6372 - val_loss: 0.1189\n",
      "Epoch 6/20\n",
      "\u001b[1m649/649\u001b[0m \u001b[32m━━━━━━━━━━━━━━━━━━━━\u001b[0m\u001b[37m\u001b[0m \u001b[1m142s\u001b[0m 208ms/step - accuracy: 0.5011 - loss: 0.1231 - val_accuracy: 0.8375 - val_loss: 0.1210\n",
      "Epoch 7/20\n",
      "\u001b[1m649/649\u001b[0m \u001b[32m━━━━━━━━━━━━━━━━━━━━\u001b[0m\u001b[37m\u001b[0m \u001b[1m132s\u001b[0m 203ms/step - accuracy: 0.5690 - loss: 0.1075 - val_accuracy: 0.5478 - val_loss: 0.1079\n",
      "Epoch 8/20\n",
      "\u001b[1m649/649\u001b[0m \u001b[32m━━━━━━━━━━━━━━━━━━━━\u001b[0m\u001b[37m\u001b[0m \u001b[1m134s\u001b[0m 207ms/step - accuracy: 0.5424 - loss: 0.0995 - val_accuracy: 0.6847 - val_loss: 0.1115\n",
      "Epoch 9/20\n",
      "\u001b[1m649/649\u001b[0m \u001b[32m━━━━━━━━━━━━━━━━━━━━\u001b[0m\u001b[37m\u001b[0m \u001b[1m141s\u001b[0m 206ms/step - accuracy: 0.6120 - loss: 0.0899 - val_accuracy: 0.7635 - val_loss: 0.1366\n",
      "Epoch 10/20\n",
      "\u001b[1m649/649\u001b[0m \u001b[32m━━━━━━━━━━━━━━━━━━━━\u001b[0m\u001b[37m\u001b[0m \u001b[1m143s\u001b[0m 208ms/step - accuracy: 0.5786 - loss: 0.0841 - val_accuracy: 0.7886 - val_loss: 0.1113\n",
      "Epoch 11/20\n",
      "\u001b[1m649/649\u001b[0m \u001b[32m━━━━━━━━━━━━━━━━━━━━\u001b[0m\u001b[37m\u001b[0m \u001b[1m133s\u001b[0m 204ms/step - accuracy: 0.6375 - loss: 0.0768 - val_accuracy: 0.8356 - val_loss: 0.1245\n",
      "Epoch 12/20\n",
      "\u001b[1m649/649\u001b[0m \u001b[32m━━━━━━━━━━━━━━━━━━━━\u001b[0m\u001b[37m\u001b[0m \u001b[1m142s\u001b[0m 205ms/step - accuracy: 0.6607 - loss: 0.0725 - val_accuracy: 0.7789 - val_loss: 0.1330\n",
      "Epoch 13/20\n",
      "\u001b[1m649/649\u001b[0m \u001b[32m━━━━━━━━━━━━━━━━━━━━\u001b[0m\u001b[37m\u001b[0m \u001b[1m143s\u001b[0m 206ms/step - accuracy: 0.6869 - loss: 0.0644 - val_accuracy: 0.8302 - val_loss: 0.1184\n",
      "Epoch 14/20\n",
      "\u001b[1m649/649\u001b[0m \u001b[32m━━━━━━━━━━━━━━━━━━━━\u001b[0m\u001b[37m\u001b[0m \u001b[1m141s\u001b[0m 205ms/step - accuracy: 0.6605 - loss: 0.0617 - val_accuracy: 0.8520 - val_loss: 0.1231\n",
      "Epoch 15/20\n",
      "\u001b[1m649/649\u001b[0m \u001b[32m━━━━━━━━━━━━━━━━━━━━\u001b[0m\u001b[37m\u001b[0m \u001b[1m142s\u001b[0m 205ms/step - accuracy: 0.7072 - loss: 0.0562 - val_accuracy: 0.8352 - val_loss: 0.1319\n",
      "Epoch 16/20\n",
      "\u001b[1m649/649\u001b[0m \u001b[32m━━━━━━━━━━━━━━━━━━━━\u001b[0m\u001b[37m\u001b[0m \u001b[1m136s\u001b[0m 196ms/step - accuracy: 0.6921 - loss: 0.0548 - val_accuracy: 0.8539 - val_loss: 0.1319\n",
      "Epoch 17/20\n",
      "\u001b[1m649/649\u001b[0m \u001b[32m━━━━━━━━━━━━━━━━━━━━\u001b[0m\u001b[37m\u001b[0m \u001b[1m146s\u001b[0m 203ms/step - accuracy: 0.6764 - loss: 0.0499 - val_accuracy: 0.8273 - val_loss: 0.1415\n",
      "Epoch 18/20\n",
      "\u001b[1m649/649\u001b[0m \u001b[32m━━━━━━━━━━━━━━━━━━━━\u001b[0m\u001b[37m\u001b[0m \u001b[1m144s\u001b[0m 206ms/step - accuracy: 0.6586 - loss: 0.0506 - val_accuracy: 0.8196 - val_loss: 0.1450\n",
      "Epoch 19/20\n",
      "\u001b[1m649/649\u001b[0m \u001b[32m━━━━━━━━━━━━━━━━━━━━\u001b[0m\u001b[37m\u001b[0m \u001b[1m142s\u001b[0m 206ms/step - accuracy: 0.6566 - loss: 0.0478 - val_accuracy: 0.7822 - val_loss: 0.1478\n",
      "Epoch 20/20\n",
      "\u001b[1m649/649\u001b[0m \u001b[32m━━━━━━━━━━━━━━━━━━━━\u001b[0m\u001b[37m\u001b[0m \u001b[1m143s\u001b[0m 207ms/step - accuracy: 0.6325 - loss: 0.0409 - val_accuracy: 0.8764 - val_loss: 0.1711\n"
     ]
    }
   ],
   "source": [
    "history2 = model2.fit(X_train_pad, y_train, epochs=20, batch_size=32, validation_data=(X_val_pad, y_val))"
   ]
  },
  {
   "cell_type": "markdown",
   "metadata": {
    "id": "J8YE-O48LBaa"
   },
   "source": [
    "### 5.3 Improved model Evaluation"
   ]
  },
  {
   "cell_type": "code",
   "execution_count": null,
   "metadata": {
    "colab": {
     "base_uri": "https://localhost:8080/"
    },
    "id": "DA9V9LnqodQ6",
    "outputId": "118cd636-b778-4d18-8629-eb8274860991"
   },
   "outputs": [
    {
     "name": "stdout",
     "output_type": "stream",
     "text": [
      "\u001b[1m203/203\u001b[0m \u001b[32m━━━━━━━━━━━━━━━━━━━━\u001b[0m\u001b[37m\u001b[0m \u001b[1m11s\u001b[0m 55ms/step - accuracy: 0.8775 - loss: 0.2003\n",
      "Test Loss: 0.19627849757671356, Test Accuracy: 0.8808018565177917\n"
     ]
    }
   ],
   "source": [
    "evaluation2 = model2.evaluate(X_test_pad, y_test)\n",
    "print(f'Test Loss: {evaluation2[0]}, Test Accuracy: {evaluation2[1]}')"
   ]
  },
  {
   "cell_type": "markdown",
   "metadata": {
    "id": "8b9FY9nkLQRk"
   },
   "source": [
    "### 5.4 Test on random sentence"
   ]
  },
  {
   "cell_type": "code",
   "execution_count": 61,
   "metadata": {
    "colab": {
     "base_uri": "https://localhost:8080/"
    },
    "id": "95LYaPrg8Rob",
    "outputId": "4ff56c30-1780-440d-cbdd-8e2f0f3aefe2"
   },
   "outputs": [
    {
     "name": "stdout",
     "output_type": "stream",
     "text": [
      "\u001b[1m1/1\u001b[0m \u001b[32m━━━━━━━━━━━━━━━━━━━━\u001b[0m\u001b[37m\u001b[0m \u001b[1m0s\u001b[0m 34ms/step\n"
     ]
    }
   ],
   "source": [
    "preprocessed_text = preprocess_single_text(sample_text)\n",
    "predicted_labels = model2.predict(preprocessed_text)[0]\n",
    "predicted_labels_binary = (predicted_labels >= 0.5).astype(int)"
   ]
  },
  {
   "cell_type": "code",
   "execution_count": 62,
   "metadata": {
    "colab": {
     "base_uri": "https://localhost:8080/"
    },
    "id": "mqLlosDF8Rrf",
    "outputId": "9552aba4-f293-4630-e1bc-411f78526772"
   },
   "outputs": [
    {
     "name": "stdout",
     "output_type": "stream",
     "text": [
      "Text: how bout you fuck off\n",
      "True Labels: [1 1 1 0 0 0]\n",
      "Predicted Labels: [1 1 1 0 1 0]\n"
     ]
    }
   ],
   "source": [
    "print(f\"Text: {sample_text}\")\n",
    "print(f\"True Labels: {sample_true_labels.values}\")\n",
    "print(f\"Predicted Labels: {predicted_labels_binary}\")"
   ]
  },
  {
   "cell_type": "markdown",
   "metadata": {},
   "source": [
    "More Epochs and fine tuning would provide further accuracy above the current 88%"
   ]
  },
  {
   "cell_type": "code",
   "execution_count": null,
   "metadata": {
    "id": "SN4Wbx5mLZUH"
   },
   "outputs": [],
   "source": []
  }
 ],
 "metadata": {
  "colab": {
   "provenance": []
  },
  "kernelspec": {
   "display_name": "Python 3",
   "name": "python3"
  },
  "language_info": {
   "name": "python"
  }
 },
 "nbformat": 4,
 "nbformat_minor": 0
}
