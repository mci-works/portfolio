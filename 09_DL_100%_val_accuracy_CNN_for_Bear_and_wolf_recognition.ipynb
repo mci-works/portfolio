{
 "cells": [
  {
   "cell_type": "code",
   "execution_count": 6,
   "metadata": {},
   "outputs": [],
   "source": [
    "import numpy as np\n",
    "import cv2\n",
    "import matplotlib.pyplot as plt\n",
    "import os\n",
    "from tensorflow.keras.preprocessing.image import ImageDataGenerator\n",
    "from tensorflow.keras.applications import resnet50, ResNet50\n",
    "from tensorflow.keras.layers import GlobalAveragePooling2D, Dense\n",
    "from tensorflow.keras.models import Model\n"
   ]
  },
  {
   "cell_type": "code",
   "execution_count": 4,
   "metadata": {},
   "outputs": [],
   "source": [
    "train_datagen = ImageDataGenerator(preprocessing_function= resnet50.preprocess_input)"
   ]
  },
  {
   "cell_type": "code",
   "execution_count": 5,
   "metadata": {},
   "outputs": [],
   "source": [
    "val_datagen = ImageDataGenerator()"
   ]
  },
  {
   "cell_type": "code",
   "execution_count": null,
   "metadata": {},
   "outputs": [],
   "source": [
    "# funzioni e importazione\n",
    "COMMON_PATH = '/home/marco/Scrivania/Progetti_vari/fototrappola/foto_rete/images2'\n",
    "samples = ['train', 'val']\n",
    "class_types = ['lupi', 'orsi', 'other']\n",
    "\n",
    "\n",
    "def graying_and_saving(original_path, new_path):\n",
    "    original_img = cv2.imread(original_path)\n",
    "    gray_img = cv2.cvtColor(original_img, cv2.COLOR_BGR2GRAY)\n",
    "    gray_img = np.stack((gray_img,)*3, axis=-1)\n",
    "    cv2.imwrite(new_path, gray_img)\n",
    "\n",
    "for sample in samples:\n",
    "    samples_path = os.path.join(COMMON_PATH, sample)\n",
    "    \n",
    "    for class_type in class_types:\n",
    "        class_path = os.path.join(samples_path, class_type)\n",
    "        \n",
    "        for i in os.listdir(class_path):\n",
    "            original_path = os.path.join(class_path, i)\n",
    "            new_img_name = 'gray-' + i\n",
    "            new_path = os.path.join(class_path, new_img_name)\n",
    "            graying_and_saving(original_path, new_path)\n",
    "print(f'finito!')"
   ]
  },
  {
   "cell_type": "code",
   "execution_count": 10,
   "metadata": {},
   "outputs": [
    {
     "name": "stdout",
     "output_type": "stream",
     "text": [
      "Found 360 images belonging to 3 classes.\n",
      "Found 176 images belonging to 3 classes.\n"
     ]
    }
   ],
   "source": [
    "train_generator = train_datagen.flow_from_directory(COMMON_PATH+'/train',\n",
    "                                                    target_size=(224,224),\n",
    "                                                    color_mode='rgb',\n",
    "                                                    batch_size=30,\n",
    "                                                    class_mode='categorical')\n",
    "val_generator = val_datagen.flow_from_directory(COMMON_PATH+'/val',\n",
    "                                                target_size=(224,224))"
   ]
  },
  {
   "cell_type": "code",
   "execution_count": 11,
   "metadata": {},
   "outputs": [],
   "source": [
    "raw_xtest, ytest = next(val_generator)"
   ]
  },
  {
   "cell_type": "code",
   "execution_count": 12,
   "metadata": {},
   "outputs": [],
   "source": [
    "xtest = resnet50.preprocess_input(raw_xtest)"
   ]
  },
  {
   "cell_type": "code",
   "execution_count": 14,
   "metadata": {},
   "outputs": [
    {
     "name": "stderr",
     "output_type": "stream",
     "text": [
      "2025-01-07 11:38:09.279270: E external/local_xla/xla/stream_executor/cuda/cuda_driver.cc:152] failed call to cuInit: INTERNAL: CUDA error: Failed call to cuInit: UNKNOWN ERROR (303)\n"
     ]
    }
   ],
   "source": [
    "base_model = ResNet50(weights='imagenet', include_top=False)"
   ]
  },
  {
   "cell_type": "code",
   "execution_count": 15,
   "metadata": {},
   "outputs": [],
   "source": [
    "x = base_model.output\n",
    "x = GlobalAveragePooling2D()(x)\n",
    "x = Dense(1024, activation='relu')(x)\n",
    "x = Dense(512, activation='relu')(x)\n",
    "pred = Dense (3, activation='softmax')(x)"
   ]
  },
  {
   "cell_type": "code",
   "execution_count": 16,
   "metadata": {},
   "outputs": [],
   "source": [
    "transfer_model = Model(inputs=base_model.input, outputs=pred)"
   ]
  },
  {
   "cell_type": "markdown",
   "metadata": {},
   "source": [
    "freeze"
   ]
  },
  {
   "cell_type": "code",
   "execution_count": 18,
   "metadata": {},
   "outputs": [
    {
     "data": {
      "text/plain": [
       "175"
      ]
     },
     "execution_count": 18,
     "metadata": {},
     "output_type": "execute_result"
    }
   ],
   "source": [
    "len(base_model.layers)"
   ]
  },
  {
   "cell_type": "code",
   "execution_count": 25,
   "metadata": {},
   "outputs": [
    {
     "name": "stdout",
     "output_type": "stream",
     "text": [
      "0,input_layer\n",
      "1,conv1_pad\n",
      "2,conv1_conv\n",
      "3,conv1_bn\n",
      "4,conv1_relu\n",
      "5,pool1_pad\n",
      "6,pool1_pool\n",
      "7,conv2_block1_1_conv\n",
      "8,conv2_block1_1_bn\n",
      "9,conv2_block1_1_relu\n",
      "10,conv2_block1_2_conv\n",
      "11,conv2_block1_2_bn\n",
      "12,conv2_block1_2_relu\n",
      "13,conv2_block1_0_conv\n",
      "14,conv2_block1_3_conv\n",
      "15,conv2_block1_0_bn\n",
      "16,conv2_block1_3_bn\n",
      "17,conv2_block1_add\n",
      "18,conv2_block1_out\n",
      "19,conv2_block2_1_conv\n",
      "20,conv2_block2_1_bn\n",
      "21,conv2_block2_1_relu\n",
      "22,conv2_block2_2_conv\n",
      "23,conv2_block2_2_bn\n",
      "24,conv2_block2_2_relu\n",
      "25,conv2_block2_3_conv\n",
      "26,conv2_block2_3_bn\n",
      "27,conv2_block2_add\n",
      "28,conv2_block2_out\n",
      "29,conv2_block3_1_conv\n",
      "30,conv2_block3_1_bn\n",
      "31,conv2_block3_1_relu\n",
      "32,conv2_block3_2_conv\n",
      "33,conv2_block3_2_bn\n",
      "34,conv2_block3_2_relu\n",
      "35,conv2_block3_3_conv\n",
      "36,conv2_block3_3_bn\n",
      "37,conv2_block3_add\n",
      "38,conv2_block3_out\n",
      "39,conv3_block1_1_conv\n",
      "40,conv3_block1_1_bn\n",
      "41,conv3_block1_1_relu\n",
      "42,conv3_block1_2_conv\n",
      "43,conv3_block1_2_bn\n",
      "44,conv3_block1_2_relu\n",
      "45,conv3_block1_0_conv\n",
      "46,conv3_block1_3_conv\n",
      "47,conv3_block1_0_bn\n",
      "48,conv3_block1_3_bn\n",
      "49,conv3_block1_add\n",
      "50,conv3_block1_out\n",
      "51,conv3_block2_1_conv\n",
      "52,conv3_block2_1_bn\n",
      "53,conv3_block2_1_relu\n",
      "54,conv3_block2_2_conv\n",
      "55,conv3_block2_2_bn\n",
      "56,conv3_block2_2_relu\n",
      "57,conv3_block2_3_conv\n",
      "58,conv3_block2_3_bn\n",
      "59,conv3_block2_add\n",
      "60,conv3_block2_out\n",
      "61,conv3_block3_1_conv\n",
      "62,conv3_block3_1_bn\n",
      "63,conv3_block3_1_relu\n",
      "64,conv3_block3_2_conv\n",
      "65,conv3_block3_2_bn\n",
      "66,conv3_block3_2_relu\n",
      "67,conv3_block3_3_conv\n",
      "68,conv3_block3_3_bn\n",
      "69,conv3_block3_add\n",
      "70,conv3_block3_out\n",
      "71,conv3_block4_1_conv\n",
      "72,conv3_block4_1_bn\n",
      "73,conv3_block4_1_relu\n",
      "74,conv3_block4_2_conv\n",
      "75,conv3_block4_2_bn\n",
      "76,conv3_block4_2_relu\n",
      "77,conv3_block4_3_conv\n",
      "78,conv3_block4_3_bn\n",
      "79,conv3_block4_add\n",
      "80,conv3_block4_out\n",
      "81,conv4_block1_1_conv\n",
      "82,conv4_block1_1_bn\n",
      "83,conv4_block1_1_relu\n",
      "84,conv4_block1_2_conv\n",
      "85,conv4_block1_2_bn\n",
      "86,conv4_block1_2_relu\n",
      "87,conv4_block1_0_conv\n",
      "88,conv4_block1_3_conv\n",
      "89,conv4_block1_0_bn\n",
      "90,conv4_block1_3_bn\n",
      "91,conv4_block1_add\n",
      "92,conv4_block1_out\n",
      "93,conv4_block2_1_conv\n",
      "94,conv4_block2_1_bn\n",
      "95,conv4_block2_1_relu\n",
      "96,conv4_block2_2_conv\n",
      "97,conv4_block2_2_bn\n",
      "98,conv4_block2_2_relu\n",
      "99,conv4_block2_3_conv\n",
      "100,conv4_block2_3_bn\n",
      "101,conv4_block2_add\n",
      "102,conv4_block2_out\n",
      "103,conv4_block3_1_conv\n",
      "104,conv4_block3_1_bn\n",
      "105,conv4_block3_1_relu\n",
      "106,conv4_block3_2_conv\n",
      "107,conv4_block3_2_bn\n",
      "108,conv4_block3_2_relu\n",
      "109,conv4_block3_3_conv\n",
      "110,conv4_block3_3_bn\n",
      "111,conv4_block3_add\n",
      "112,conv4_block3_out\n",
      "113,conv4_block4_1_conv\n",
      "114,conv4_block4_1_bn\n",
      "115,conv4_block4_1_relu\n",
      "116,conv4_block4_2_conv\n",
      "117,conv4_block4_2_bn\n",
      "118,conv4_block4_2_relu\n",
      "119,conv4_block4_3_conv\n",
      "120,conv4_block4_3_bn\n",
      "121,conv4_block4_add\n",
      "122,conv4_block4_out\n",
      "123,conv4_block5_1_conv\n",
      "124,conv4_block5_1_bn\n",
      "125,conv4_block5_1_relu\n",
      "126,conv4_block5_2_conv\n",
      "127,conv4_block5_2_bn\n",
      "128,conv4_block5_2_relu\n",
      "129,conv4_block5_3_conv\n",
      "130,conv4_block5_3_bn\n",
      "131,conv4_block5_add\n",
      "132,conv4_block5_out\n",
      "133,conv4_block6_1_conv\n",
      "134,conv4_block6_1_bn\n",
      "135,conv4_block6_1_relu\n",
      "136,conv4_block6_2_conv\n",
      "137,conv4_block6_2_bn\n",
      "138,conv4_block6_2_relu\n",
      "139,conv4_block6_3_conv\n",
      "140,conv4_block6_3_bn\n",
      "141,conv4_block6_add\n",
      "142,conv4_block6_out\n",
      "143,conv5_block1_1_conv\n",
      "144,conv5_block1_1_bn\n",
      "145,conv5_block1_1_relu\n",
      "146,conv5_block1_2_conv\n",
      "147,conv5_block1_2_bn\n",
      "148,conv5_block1_2_relu\n",
      "149,conv5_block1_0_conv\n",
      "150,conv5_block1_3_conv\n",
      "151,conv5_block1_0_bn\n",
      "152,conv5_block1_3_bn\n",
      "153,conv5_block1_add\n",
      "154,conv5_block1_out\n",
      "155,conv5_block2_1_conv\n",
      "156,conv5_block2_1_bn\n",
      "157,conv5_block2_1_relu\n",
      "158,conv5_block2_2_conv\n",
      "159,conv5_block2_2_bn\n",
      "160,conv5_block2_2_relu\n",
      "161,conv5_block2_3_conv\n",
      "162,conv5_block2_3_bn\n",
      "163,conv5_block2_add\n",
      "164,conv5_block2_out\n",
      "165,conv5_block3_1_conv\n",
      "166,conv5_block3_1_bn\n",
      "167,conv5_block3_1_relu\n",
      "168,conv5_block3_2_conv\n",
      "169,conv5_block3_2_bn\n",
      "170,conv5_block3_2_relu\n",
      "171,conv5_block3_3_conv\n",
      "172,conv5_block3_3_bn\n",
      "173,conv5_block3_add\n",
      "174,conv5_block3_out\n"
     ]
    }
   ],
   "source": [
    "for i,layer in enumerate(base_model.layers):\n",
    "    print(f'{i},{layer.name}')"
   ]
  },
  {
   "cell_type": "code",
   "execution_count": 20,
   "metadata": {},
   "outputs": [],
   "source": [
    "for layer in transfer_model.layers[:174]:\n",
    "    layer.trainable = False\n",
    "for layer in transfer_model.layers[174:]:\n",
    "    layer.trainable = True"
   ]
  },
  {
   "cell_type": "markdown",
   "metadata": {},
   "source": [
    "compile"
   ]
  },
  {
   "cell_type": "code",
   "execution_count": 27,
   "metadata": {},
   "outputs": [],
   "source": [
    "transfer_model.compile(optimizer='adam',\n",
    "                       loss='categorical_crossentropy',\n",
    "                       metrics=['accuracy']\n",
    "    )"
   ]
  },
  {
   "cell_type": "markdown",
   "metadata": {},
   "source": [
    "fit"
   ]
  },
  {
   "cell_type": "code",
   "execution_count": 30,
   "metadata": {},
   "outputs": [
    {
     "name": "stderr",
     "output_type": "stream",
     "text": [
      "/home/marco/anaconda3/envs/tensenv2/lib/python3.11/site-packages/keras/src/trainers/data_adapters/py_dataset_adapter.py:121: UserWarning: Your `PyDataset` class should call `super().__init__(**kwargs)` in its constructor. `**kwargs` can include `workers`, `use_multiprocessing`, `max_queue_size`. Do not pass these arguments to `fit()`, as they will be ignored.\n",
      "  self._warn_if_super_not_called()\n"
     ]
    },
    {
     "name": "stdout",
     "output_type": "stream",
     "text": [
      "Epoch 1/2\n"
     ]
    },
    {
     "name": "stderr",
     "output_type": "stream",
     "text": [
      "2025-01-07 11:59:25.899153: W external/local_xla/xla/tsl/framework/cpu_allocator_impl.cc:83] Allocation of 96337920 exceeds 10% of free system memory.\n",
      "2025-01-07 11:59:26.145393: W external/local_xla/xla/tsl/framework/cpu_allocator_impl.cc:83] Allocation of 99809280 exceeds 10% of free system memory.\n",
      "2025-01-07 11:59:26.240809: W external/local_xla/xla/tsl/framework/cpu_allocator_impl.cc:83] Allocation of 96337920 exceeds 10% of free system memory.\n",
      "2025-01-07 11:59:26.397431: W external/local_xla/xla/tsl/framework/cpu_allocator_impl.cc:83] Allocation of 96337920 exceeds 10% of free system memory.\n",
      "2025-01-07 11:59:26.637946: W external/local_xla/xla/tsl/framework/cpu_allocator_impl.cc:83] Allocation of 96337920 exceeds 10% of free system memory.\n"
     ]
    },
    {
     "name": "stdout",
     "output_type": "stream",
     "text": [
      "\u001b[1m12/12\u001b[0m \u001b[32m━━━━━━━━━━━━━━━━━━━━\u001b[0m\u001b[37m\u001b[0m \u001b[1m53s\u001b[0m 3s/step - accuracy: 0.5018 - loss: 1.8670 - val_accuracy: 0.8438 - val_loss: 0.4411\n",
      "Epoch 2/2\n",
      "\u001b[1m12/12\u001b[0m \u001b[32m━━━━━━━━━━━━━━━━━━━━\u001b[0m\u001b[37m\u001b[0m \u001b[1m34s\u001b[0m 3s/step - accuracy: 0.9368 - loss: 0.2052 - val_accuracy: 1.0000 - val_loss: 0.0730\n",
      "CPU times: user 7min 12s, sys: 31 s, total: 7min 43s\n",
      "Wall time: 1min 27s\n"
     ]
    }
   ],
   "source": [
    "%%time\n",
    "history = transfer_model.fit(train_generator,\n",
    "                             steps_per_epoch=train_generator.n // train_generator.batch_size,\n",
    "                             validation_data=(xtest, ytest),\n",
    "                             epochs=2)"
   ]
  },
  {
   "cell_type": "code",
   "execution_count": null,
   "metadata": {},
   "outputs": [],
   "source": []
  }
 ],
 "metadata": {
  "kernelspec": {
   "display_name": "tensenv2",
   "language": "python",
   "name": "python3"
  },
  "language_info": {
   "codemirror_mode": {
    "name": "ipython",
    "version": 3
   },
   "file_extension": ".py",
   "mimetype": "text/x-python",
   "name": "python",
   "nbconvert_exporter": "python",
   "pygments_lexer": "ipython3",
   "version": "3.11.9"
  }
 },
 "nbformat": 4,
 "nbformat_minor": 2
}
